{
 "cells": [
  {
   "cell_type": "markdown",
   "metadata": {},
   "source": [
    "Functions are of two type:\n",
    "    -pre-defined(print,input,sum,len,isinstance,type......)\n",
    "    -user-defined(defined by coder)\n",
    "      ->code reuse>>\n",
    "      ->Managable\n",
    "    ->for easily debugging\n",
    "\n",
    "    <<---------TYPES OF FUNCTIONS------------->>\n",
    "\n",
    "  1)  INPUT>>>>>>>[FUNCTION]>>>>>OUTPUT\n",
    "  2)              [FUNCTION]\n",
    "  3)  INPUT>>>>>>>[FUNCTION]\n",
    "  4)              [FUNCTION]>>>>>OUTPUT\n"
   ]
  },
  {
   "cell_type": "code",
   "execution_count": 5,
   "metadata": {},
   "outputs": [],
   "source": [
    "#defining the function\n",
    "def greeting():\n",
    "    print('😎🌳🌍')\n",
    "    print('SAVE ENVIRONMENT')\n",
    "    print('😎🌳🌍')"
   ]
  },
  {
   "cell_type": "code",
   "execution_count": 4,
   "metadata": {},
   "outputs": [
    {
     "data": {
      "text/plain": [
       "<function __main__.greeting()>"
      ]
     },
     "execution_count": 4,
     "metadata": {},
     "output_type": "execute_result"
    }
   ],
   "source": [
    "#calling a function\n",
    "greeting\n",
    "# __main__: current executed file reference\n"
   ]
  },
  {
   "cell_type": "code",
   "execution_count": 8,
   "metadata": {},
   "outputs": [
    {
     "name": "stdout",
     "output_type": "stream",
     "text": [
      "😎🌳🌍\n",
      "SAVE ENVIRONMENT\n",
      "😎🌳🌍\n",
      "😎🌳🌍\n",
      "SAVE ENVIRONMENT\n",
      "😎🌳🌍\n",
      "None\n"
     ]
    }
   ],
   "source": [
    "greeting() #non-parameterize function   #None:no return( nothing in Paranthesis)\n",
    "print(greeting())"
   ]
  },
  {
   "cell_type": "code",
   "execution_count": 5,
   "metadata": {},
   "outputs": [],
   "source": [
    "def roll():\n",
    "    from random import randint\n",
    "    dice=randint(1,6) #parameter were provided, therfore it will return the value\n",
    "    print(f'🎲==>{dice}')"
   ]
  },
  {
   "cell_type": "code",
   "execution_count": 9,
   "metadata": {},
   "outputs": [
    {
     "name": "stdout",
     "output_type": "stream",
     "text": [
      "🎲==>1\n"
     ]
    }
   ],
   "source": [
    "roll()"
   ]
  }
 ],
 "metadata": {
  "kernelspec": {
   "display_name": "Python 3",
   "language": "python",
   "name": "python3"
  },
  "language_info": {
   "codemirror_mode": {
    "name": "ipython",
    "version": 3
   },
   "file_extension": ".py",
   "mimetype": "text/x-python",
   "name": "python",
   "nbconvert_exporter": "python",
   "pygments_lexer": "ipython3",
   "version": "3.12.3"
  }
 },
 "nbformat": 4,
 "nbformat_minor": 2
}
