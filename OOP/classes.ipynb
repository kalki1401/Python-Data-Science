{
 "cells": [
  {
   "cell_type": "code",
   "execution_count": 1,
   "metadata": {},
   "outputs": [
    {
     "name": "stdout",
     "output_type": "stream",
     "text": [
      "hello <class 'str'>\n"
     ]
    }
   ],
   "source": [
    "a=\"hello\"\n",
    "print(a, type(a))\n",
    "#str: class"
   ]
  },
  {
   "cell_type": "code",
   "execution_count": null,
   "metadata": {},
   "outputs": [],
   "source": [
    "#classes: create an outline of the desired object (not stored in the memory) #not usable (attributes and Methods) like a blueprint\n",
    "#objects: are the implementation of class (stored in the memory) #usable\n",
    "#class ke andar function is called method\n"
   ]
  },
  {
   "cell_type": "code",
   "execution_count": 2,
   "metadata": {},
   "outputs": [],
   "source": [
    "class pen:\n",
    "    shape=None\n",
    "    color=None\n",
    "    material=None\n",
    "    type=None\n",
    "    def show(self):  #class ka khud ka method to access the properties of class\n",
    "        print(\"This is the Pen\")"
   ]
  },
  {
   "cell_type": "code",
   "execution_count": 3,
   "metadata": {},
   "outputs": [
    {
     "name": "stdout",
     "output_type": "stream",
     "text": [
      "<class '__main__.pen'>\n"
     ]
    }
   ],
   "source": [
    "print(pen)  #_main_ : current file"
   ]
  },
  {
   "cell_type": "code",
   "execution_count": 9,
   "metadata": {},
   "outputs": [
    {
     "name": "stdout",
     "output_type": "stream",
     "text": [
      "<__main__.pen object at 0x0000024D726A8EC0>\n",
      "<__main__.pen object at 0x0000024D726A9FA0>\n",
      "This is the Pen\n",
      "None\n",
      "Cylindrical red plastic ballpen\n"
     ]
    }
   ],
   "source": [
    "#creating object of the pen class\n",
    "p1=pen() #creating an object of pen class, p1 as an object #default constructor\n",
    "p2=pen()\n",
    "print(p1)\n",
    "print(p2)\n",
    "p1.show() #calling a method\n",
    "print(p1.shape)\n",
    "p1.shape=\"Cylindrical\"\n",
    "p2.shape=\"Hexagonal\"\n",
    "p1.color=\"blue\"\n",
    "p2.color=\"red\"\n",
    "p1.material=\"plastic\"\n",
    "p2.material=\"metal\"\n",
    "p1.type=\"ballpen\"\n",
    "p2.type=\"gelpen\"\n",
    "print(p1.shape,p2.color,p1.material,p1.type)\n"
   ]
  },
  {
   "cell_type": "code",
   "execution_count": 11,
   "metadata": {},
   "outputs": [],
   "source": [
    "class Students:\n",
    "    def __init__(self,nm,course,clg,gender='F') -> None:   #constructor:init\n",
    "       #instance variable\n",
    "        self.name=nm\n",
    "        self.course=course\n",
    "        self.college=clg\n",
    "        self.gender=gender\n",
    "        self.skills=[]\n",
    "\n",
    "   #instance method\n",
    "    def show(self):\n",
    "        print(\"Student Name:\",self.name)\n",
    "        print(\"course:\",self.course)\n",
    "        print(\"College:\",self.college)\n",
    "        print(\"Gender:\",self.gender)\n",
    "        print(\"skill:\",*self.skills)\n",
    "\n",
    "    def add_skill(self,new_skill):\n",
    "        self.skills.append(new_skill)\n"
   ]
  },
  {
   "cell_type": "code",
   "execution_count": 14,
   "metadata": {},
   "outputs": [
    {
     "name": "stdout",
     "output_type": "stream",
     "text": [
      "Student Name Kushagra\n",
      "course |Administrative Studies|\n",
      "College |LBSNAA|\n",
      "Gender M\n",
      "skill Singing\n",
      "Student Name Himansu\n",
      "course |International Relational Studies|\n",
      "College |LBSNAA|\n",
      "Gender M\n",
      "skill Dancing\n",
      "Student Name Divya\n",
      "course |Anthropology|\n",
      "College |ICAR|\n",
      "Gender F\n",
      "skill Mountain climbing\n"
     ]
    }
   ],
   "source": [
    "s1=Students(\"Kushagra\",\"|Administrative Studies|\",\"|LBSNAA|\",\"M\")\n",
    "s2=Students(\"Himansu\",\"|International Relational Studies|\",\"|LBSNAA|\",\"M\")\n",
    "s3=Students(\"Divya\",\"|Anthropology|\",\"|ICAR|\",\"F\")\n",
    "s1.add_skill(\"Singing\")\n",
    "s2.add_skill(\"Dancing\")\n",
    "s3.add_skill(\"Mountain climbing\")\n",
    "s1.show()\n",
    "s2.show()\n",
    "s3.show()"
   ]
  },
  {
   "cell_type": "code",
   "execution_count": 15,
   "metadata": {},
   "outputs": [],
   "source": [
    "#Data Class : class that contains data not functions\n",
    "from dataclasses import dataclass  #only for info storage no special fn required\n"
   ]
  },
  {
   "cell_type": "code",
   "execution_count": 17,
   "metadata": {},
   "outputs": [],
   "source": [
    "@dataclass\n",
    "class Employee:\n",
    "    name:str\n",
    "    designation:str\n",
    "    salary:float"
   ]
  },
  {
   "cell_type": "code",
   "execution_count": 20,
   "metadata": {},
   "outputs": [
    {
     "name": "stdout",
     "output_type": "stream",
     "text": [
      "Employee(name='Sam', designation='Manager', salary='80000')\n",
      "Employee(name='Mirza', designation='Clerk', salary='45000')\n",
      "80000 Sam\n"
     ]
    }
   ],
   "source": [
    "e1=Employee(\"Sam\",\"Manager\",\"80000\")\n",
    "e2=Employee(\"Mirza\",\"Clerk\",\"45000\")\n",
    "print(e1)\n",
    "print(e2)\n",
    "print(e1.salary, e1.name)"
   ]
  },
  {
   "cell_type": "code",
   "execution_count": 21,
   "metadata": {},
   "outputs": [],
   "source": [
    "#Inheritence\n",
    "class Backbencher(Students) :\n",
    "    pass #skip"
   ]
  },
  {
   "cell_type": "code",
   "execution_count": 23,
   "metadata": {},
   "outputs": [
    {
     "name": "stdout",
     "output_type": "stream",
     "text": [
      "Student Name jacob\n",
      "course BA\n",
      "College DAV\n",
      "Gender M\n",
      "skill Sleeping\n"
     ]
    }
   ],
   "source": [
    "b1=Backbencher(\"jacob\",\"BA\",\"DAV\",\"M\")\n",
    "b1.add_skill(\"Sleeping\")\n",
    "b1.show()"
   ]
  }
 ],
 "metadata": {
  "kernelspec": {
   "display_name": "Python 3",
   "language": "python",
   "name": "python3"
  },
  "language_info": {
   "codemirror_mode": {
    "name": "ipython",
    "version": 3
   },
   "file_extension": ".py",
   "mimetype": "text/x-python",
   "name": "python",
   "nbconvert_exporter": "python",
   "pygments_lexer": "ipython3",
   "version": "3.12.3"
  }
 },
 "nbformat": 4,
 "nbformat_minor": 2
}
