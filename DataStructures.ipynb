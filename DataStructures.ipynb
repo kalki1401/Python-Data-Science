{
 "cells": [
  {
   "cell_type": "code",
   "execution_count": null,
   "metadata": {},
   "outputs": [],
   "source": []
  },
  {
   "cell_type": "markdown",
   "metadata": {},
   "source": [
    " Data Structures\n",
    "\n",
    "List>> indexed DS : ordered DS : Mutable : heterogenous(mixed values can be kept): have duplicates : just values:  []:  list()\n",
    "tuple>>indexed DS : ordered DS : immutable: heterogenous(mixed values can be kept): have duplicate: just values: (): tuple()\n",
    "set>> unindexed DS : Unordered DS: mutable: heterogenous(mixed values can be kept): Only unique values :just values: {}: set()\n",
    "dictionary>> unindexed DS : Ordered DS : mutable: heterogenous(mixed values can be kept): have duplicate: works in Key- value pairs: {}: dict()"
   ]
  },
  {
   "cell_type": "markdown",
   "metadata": {},
   "source": [
    "#List\n",
    "- creating\n",
    "- indexing n slicing (same as string)\n",
    "- comprehension"
   ]
  },
  {
   "cell_type": "code",
   "execution_count": 4,
   "metadata": {},
   "outputs": [
    {
     "name": "stdout",
     "output_type": "stream",
     "text": [
      "[]\n",
      "[1, 2, 3, 4]\n",
      "[1, 'apple', 2, 'mango']\n",
      "[[1, 2, 3], [4, 5, 6]]\n",
      "[[1, 'apple'], [2, 'banana']]\n",
      "['kush', 'lucknow']\n"
     ]
    }
   ],
   "source": [
    "a=[] #empty list\n",
    "b=[1,2,3,4] #numeric list\n",
    "c=[1,'apple',2,'mango'] #mixed list\n",
    "d=[[1,2,3],[4,5,6]] #list of list\n",
    "e=[[1,\"apple\"],[2,\"banana\"]] #mixed nested list\n",
    "f=['kush','lucknow'] #string list\n",
    "print(a)\n",
    "print(b)\n",
    "print(c)\n",
    "print(d)\n",
    "print(e)\n",
    "print(f)\n"
   ]
  },
  {
   "cell_type": "code",
   "execution_count": 3,
   "metadata": {},
   "outputs": [
    {
     "name": "stdout",
     "output_type": "stream",
     "text": [
      "[1, 'apple']\n",
      "[2, 'banana']\n"
     ]
    }
   ],
   "source": [
    "for i in e: #data traversal\n",
    "    print(i)"
   ]
  },
  {
   "cell_type": "code",
   "execution_count": 1,
   "metadata": {},
   "outputs": [
    {
     "name": "stdout",
     "output_type": "stream",
     "text": [
      "['h', 'e', 'l', 'l', 'o']\n",
      "[0, 1, 2, 3, 4, 5, 6, 7, 8, 9]\n",
      "[0.5, 0.5, 0.5, 0.5, 0.5, 0.5, 0.5, 0.5, 0.5, 0.5]\n"
     ]
    }
   ],
   "source": [
    "g=list('hello')\n",
    "h=list(range(10))\n",
    "i=[0.5]*10  #duplicated list\n",
    "print(g)\n",
    "print(h)\n",
    "print(i)\n"
   ]
  },
  {
   "cell_type": "code",
   "execution_count": 12,
   "metadata": {},
   "outputs": [
    {
     "name": "stdout",
     "output_type": "stream",
     "text": [
      "Aparichit\n",
      "I\n",
      "['I', 'PK', 'om shanti om', 'koi mil gya', 'Aparichit']\n"
     ]
    }
   ],
   "source": [
    "movies=['Aparichit','koi mil gya','om shanti om','PK','I']\n",
    "print(movies[-len(movies)])\n",
    "print(movies[-1]) #last item\n",
    "print(movies[::-1])\n"
   ]
  },
  {
   "cell_type": "code",
   "execution_count": 23,
   "metadata": {},
   "outputs": [
    {
     "name": "stdout",
     "output_type": "stream",
     "text": [
      "[1, 2, 3, 4, 5]\n",
      "[1, 2, 3, 4, 5, 6, 7]\n",
      "[5, 6]\n",
      "[10, 9, 8, 7, 6, 5, 4, 3, 2, 1]\n"
     ]
    }
   ],
   "source": [
    "number=[1,2,3,4,5,6,7,8,9,10]\n",
    "print(number[0:5])\n",
    "print(number[:-3])\n",
    "print(number[4:-4]) \n",
    "print(number[::-1])"
   ]
  },
  {
   "cell_type": "markdown",
   "metadata": {},
   "source": [
    "- #list method (11)\n",
    "⬇️⬇️⬇️⬇️⬇️⬇️⬇️⬇️⬇️\n",
    "\n",
    "- adding/updating\n",
    "  -'append()'\n",
    "  -'extend()'\n",
    "  - 'insert()\n",
    "\n",
    "- removal/deletion\n",
    "  - 'remove()'\n",
    "  - 'pop()'\n",
    "  - 'clear()'\n",
    "\n",
    "- utility\n",
    " - sort()\n",
    " - reverse()\n",
    " - index()\n",
    " - count()\n",
    " - copy()"
   ]
  },
  {
   "cell_type": "code",
   "execution_count": 2,
   "metadata": {},
   "outputs": [
    {
     "name": "stdout",
     "output_type": "stream",
     "text": [
      "fav book:  ['', 'harry potter and the goblet of fire', 'Spiderman :Home coming', 'Jumanji', 'geography ny Savinder singh']\n",
      "hated book:  ['Polity by M.Laxmikant', 'Jacobian', 'Chronicles of Narnia']\n"
     ]
    }
   ],
   "source": [
    "fav_book=[]\n",
    "hated_book=[]\n",
    "for i in range(5):\n",
    "    book=input(\"Input your fav book:\")\n",
    "    fav_book.append(book)\n",
    "for i in range(3):\n",
    "    book=input(\"Input your hated book:\")\n",
    "    hated_book.append(book)\n",
    "\n",
    "print(\"fav book: \",fav_book)\n",
    "print(\"hated book: \",hated_book)\n"
   ]
  },
  {
   "cell_type": "code",
   "execution_count": 27,
   "metadata": {},
   "outputs": [
    {
     "name": "stdout",
     "output_type": "stream",
     "text": [
      "['Hell in the Cell', 'Jacobian', 'Narnia Chronicles', 'ikagai']\n"
     ]
    }
   ],
   "source": [
    "hated_book.append(\"ikagai\")\n",
    "print(hated_book)"
   ]
  },
  {
   "cell_type": "code",
   "execution_count": 5,
   "metadata": {},
   "outputs": [
    {
     "name": "stdout",
     "output_type": "stream",
     "text": [
      "['', 'harry potter and the goblet of fire', 'Spiderman :Home coming', 'Jumanji', 'geography ny Savinder singh', 'Polity by M.Laxmikant', 'Jacobian', 'Chronicles of Narnia']\n"
     ]
    }
   ],
   "source": [
    "#merging of lists and create a new list\n",
    "books=fav_book+hated_book\n",
    "print(books)"
   ]
  },
  {
   "cell_type": "code",
   "execution_count": 6,
   "metadata": {},
   "outputs": [
    {
     "name": "stdout",
     "output_type": "stream",
     "text": [
      "['', 'harry potter and the goblet of fire', 'Spiderman :Home coming', 'Jumanji', 'geography ny Savinder singh', 'Polity by M.Laxmikant', 'Jacobian', 'Chronicles of Narnia', 'hatim', 'Ali baba 40 chor', 'Aladdin']\n",
      "The count of Books : 11\n"
     ]
    }
   ],
   "source": [
    "#adding a list to the existing list\n",
    "books.extend(['hatim','Ali baba 40 chor','Aladdin'])\n",
    "print(books)\n",
    "print(\"The count of Books :\",len(books))"
   ]
  },
  {
   "cell_type": "code",
   "execution_count": 8,
   "metadata": {},
   "outputs": [
    {
     "name": "stdout",
     "output_type": "stream",
     "text": [
      "['', 'harry potter and the goblet of fire', 'Spiderman :Home coming', 'Jumanji', 'geography ny Savinder singh', 'Polity by M.Laxmikant', 'Jacobian', 'Chronicles of Narnia', 'hatim', 'Ali baba 40 chor', 'Aladdin', 'Jalaikattu', 'Jalaikattu']\n"
     ]
    }
   ],
   "source": [
    "# books.append([\"marino\",\"jacobian\"]) #nested type\n",
    "# print(books)\n",
    "books.append(\"Jalaikattu\")\n",
    "print(books)\n"
   ]
  },
  {
   "cell_type": "code",
   "execution_count": 10,
   "metadata": {},
   "outputs": [
    {
     "name": "stdout",
     "output_type": "stream",
     "text": [
      "['Aghori', '', 'harry potter and the goblet of fire', 'Spiderman :Home coming', 'Jumanji', 'geography ny Savinder singh', 'Polity by M.Laxmikant', 'Jacobian', 'Alchemist', 'Chronicles of Narnia', 'hatim', 'Ali baba 40 chor', 'Aladdin', 'Jalaikattu', 'Jalaikattu']\n"
     ]
    }
   ],
   "source": [
    "books.insert(0,\"Aghori\")\n",
    "print(books)"
   ]
  },
  {
   "cell_type": "code",
   "execution_count": 11,
   "metadata": {},
   "outputs": [
    {
     "data": {
      "text/plain": [
       "['Aghori',\n",
       " '',\n",
       " 'harry potter and the goblet of fire',\n",
       " 'Spiderman :Home coming',\n",
       " 'Jumanji',\n",
       " 'geography ny Savinder singh',\n",
       " 'Polity by M.Laxmikant',\n",
       " 'Jacobian',\n",
       " 'Alchemist',\n",
       " 'Chronicles of Narnia',\n",
       " 'hatim',\n",
       " 'Ali baba 40 chor',\n",
       " 'Aladdin',\n",
       " 'Jalaikattu',\n",
       " 'Jalaikattu']"
      ]
     },
     "execution_count": 11,
     "metadata": {},
     "output_type": "execute_result"
    }
   ],
   "source": [
    "books"
   ]
  },
  {
   "cell_type": "code",
   "execution_count": 14,
   "metadata": {},
   "outputs": [
    {
     "name": "stdout",
     "output_type": "stream",
     "text": [
      "['Aghori', 'Game of Thrones', 'harry potter and the goblet of fire', 'Spiderman :Home coming', 'Jumanji', 'geography ny Savinder singh', 'Polity by M.Laxmikant', 'Jacobian', 'Alchemist', 'Chronicles of Narnia', 'hatim', 'Ali baba 40 chor', 'Aladdin', 'Jalaikattu', 'Pushpa Raj']\n"
     ]
    }
   ],
   "source": [
    "#replace\n",
    "books[1]=\"Game of Thrones\"\n",
    "books[-1]=\"Pushpa Raj\"\n",
    "print(books)"
   ]
  },
  {
   "cell_type": "code",
   "execution_count": 15,
   "metadata": {},
   "outputs": [
    {
     "data": {
      "text/plain": [
       "['Aghori',\n",
       " 'Game of Thrones',\n",
       " 'harry potter and the goblet of fire',\n",
       " 'Spiderman :Home coming',\n",
       " 'Jumanji',\n",
       " 'geography ny Savinder singh',\n",
       " 'Polity by M.Laxmikant',\n",
       " 'Alchemist',\n",
       " 'Chronicles of Narnia',\n",
       " 'hatim',\n",
       " 'Ali baba 40 chor',\n",
       " 'Aladdin',\n",
       " 'Jalaikattu',\n",
       " 'Pushpa Raj']"
      ]
     },
     "execution_count": 15,
     "metadata": {},
     "output_type": "execute_result"
    }
   ],
   "source": [
    "# remove(): value Based removal\n",
    "# pop(): index based removal\n",
    "books.remove(\"Jacobian\")\n",
    "books"
   ]
  },
  {
   "cell_type": "code",
   "execution_count": 17,
   "metadata": {},
   "outputs": [
    {
     "data": {
      "text/plain": [
       "'geography ny Savinder singh'"
      ]
     },
     "execution_count": 17,
     "metadata": {},
     "output_type": "execute_result"
    }
   ],
   "source": [
    "books.pop(5)\n"
   ]
  },
  {
   "cell_type": "code",
   "execution_count": 18,
   "metadata": {},
   "outputs": [
    {
     "data": {
      "text/plain": [
       "'Jalaikattu'"
      ]
     },
     "execution_count": 18,
     "metadata": {},
     "output_type": "execute_result"
    }
   ],
   "source": [
    "books.pop() #directly removes the last element"
   ]
  },
  {
   "cell_type": "code",
   "execution_count": 45,
   "metadata": {},
   "outputs": [
    {
     "name": "stdout",
     "output_type": "stream",
     "text": [
      "[]\n"
     ]
    }
   ],
   "source": [
    "hated_book.clear() #remove all the elements\n",
    "print(hated_book)\n"
   ]
  },
  {
   "cell_type": "markdown",
   "metadata": {},
   "source": [
    "# WAP  to create an emptylist , then fill the list with 10 prime numbers using a loop starting with 2\n"
   ]
  },
  {
   "cell_type": "code",
   "execution_count": 8,
   "metadata": {},
   "outputs": [
    {
     "name": "stdout",
     "output_type": "stream",
     "text": [
      "[2, 3, 4, 5, 6, 7, 8, 9, 10, 11, 12, 13]\n",
      "3\n",
      "5\n",
      "7\n",
      "9\n",
      "11\n",
      "13\n"
     ]
    }
   ],
   "source": [
    "num=int(input(\"enter the value\"))\n",
    "lst=[]\n",
    "for i in range(2,num):\n",
    "   lst.append(i)\n",
    "print(lst)\n",
    "for j in lst:\n",
    "   if j%2==0:\n",
    "      continue\n",
    "   print(j)\n",
    "\n",
    "\n",
    "   \n",
    "\n",
    "   \n",
    "\n",
    "\n"
   ]
  },
  {
   "cell_type": "code",
   "execution_count": 9,
   "metadata": {},
   "outputs": [],
   "source": [
    "numbers=[12,85,78,69,14,77,32,98]\n",
    "numbers.reverse() #changes the orignal list"
   ]
  },
  {
   "cell_type": "code",
   "execution_count": 10,
   "metadata": {},
   "outputs": [
    {
     "name": "stdout",
     "output_type": "stream",
     "text": [
      "[98, 32, 77, 14, 69, 78, 85, 12]\n"
     ]
    }
   ],
   "source": [
    "print(numbers)"
   ]
  },
  {
   "cell_type": "code",
   "execution_count": 11,
   "metadata": {},
   "outputs": [
    {
     "name": "stdout",
     "output_type": "stream",
     "text": [
      "[98, 32, 77, 14, 69, 78, 85, 12]\n"
     ]
    }
   ],
   "source": [
    "numbers=[12,85,78,69,14,77,32,98]\n",
    "a=numbers[::-1]\n",
    "print(a)"
   ]
  },
  {
   "cell_type": "code",
   "execution_count": 13,
   "metadata": {},
   "outputs": [
    {
     "name": "stdout",
     "output_type": "stream",
     "text": [
      "[12, 14, 32, 69, 77, 78, 85, 98]\n",
      "[98, 85, 78, 77, 69, 32, 14, 12]\n"
     ]
    }
   ],
   "source": [
    "numbers.sort() #ascending, changes the order list\n",
    "print(numbers)\n",
    "numbers.sort(reverse=True) #descending\n",
    "print(numbers)"
   ]
  },
  {
   "cell_type": "code",
   "execution_count": 14,
   "metadata": {},
   "outputs": [
    {
     "name": "stdout",
     "output_type": "stream",
     "text": [
      "[[1, 12], [2, 5], [4, 15], [5, 10]]\n"
     ]
    }
   ],
   "source": [
    "x=[[1,12],[2,5],[5,10],[4,15]]\n",
    "x.sort() #sort by the first element\n",
    "print(x)"
   ]
  },
  {
   "cell_type": "code",
   "execution_count": 15,
   "metadata": {},
   "outputs": [
    {
     "name": "stdout",
     "output_type": "stream",
     "text": [
      "[[2, 5], [5, 10], [1, 12], [4, 15]]\n"
     ]
    }
   ],
   "source": [
    "x.sort(key=lambda e: e[1]) #sort by the second element\n",
    "print(x)"
   ]
  },
  {
   "cell_type": "code",
   "execution_count": 16,
   "metadata": {},
   "outputs": [
    {
     "name": "stdout",
     "output_type": "stream",
     "text": [
      "[[2, 5], [1, 12], [5, 10], [4, 15]]\n"
     ]
    }
   ],
   "source": [
    "x.sort(key=lambda i: sum(i))\n",
    "print(x)"
   ]
  },
  {
   "cell_type": "code",
   "execution_count": 17,
   "metadata": {},
   "outputs": [
    {
     "name": "stdout",
     "output_type": "stream",
     "text": [
      "[('Alice', 25), ('Bob', 19), ('Alex', 26)]\n"
     ]
    }
   ],
   "source": [
    "users=[('Alice',25),('Bob',19),('Alex',26)]\n",
    "x.sort()\n",
    "print(users)"
   ]
  },
  {
   "cell_type": "code",
   "execution_count": 21,
   "metadata": {},
   "outputs": [
    {
     "name": "stdout",
     "output_type": "stream",
     "text": [
      "[['laptop', 60000, 1], ['mobile', 25000, 2], ['headphone', 1500, 2], ['watch', 3000, 3]]\n"
     ]
    }
   ],
   "source": [
    "cart=[['mobile',25000,2],\n",
    "      ['laptop',60000,1],\n",
    "      ['watch',3000,3],\n",
    "      ['headphone',1500,2]]\n",
    "cart.sort(key=lambda e:e[2])\n",
    "\n",
    "\n",
    "print(cart)"
   ]
  },
  {
   "cell_type": "code",
   "execution_count": 22,
   "metadata": {},
   "outputs": [
    {
     "name": "stdout",
     "output_type": "stream",
     "text": [
      "[['headphone', 1500, 2], ['watch', 3000, 3], ['mobile', 25000, 2], ['laptop', 60000, 1]]\n"
     ]
    }
   ],
   "source": [
    "cart.sort(key=lambda e:e[1]*e[2]) #stored in memory \n",
    "print(cart)"
   ]
  },
  {
   "cell_type": "code",
   "execution_count": 24,
   "metadata": {},
   "outputs": [
    {
     "name": "stdout",
     "output_type": "stream",
     "text": [
      "2\n"
     ]
    }
   ],
   "source": [
    "#count function\n",
    "a=[1,8,8,9,1,5,8,9]\n",
    "d=a.count(1)\n",
    "print(d)"
   ]
  },
  {
   "cell_type": "code",
   "execution_count": 25,
   "metadata": {},
   "outputs": [
    {
     "data": {
      "text/plain": [
       "7"
      ]
     },
     "execution_count": 25,
     "metadata": {},
     "output_type": "execute_result"
    }
   ],
   "source": [
    "numbers.index(12) #give the index of 12 (first occurance)"
   ]
  },
  {
   "cell_type": "code",
   "execution_count": 31,
   "metadata": {},
   "outputs": [
    {
     "name": "stdout",
     "output_type": "stream",
     "text": [
      "[1, 2, 3, 4, 5]\n",
      "[1, 2, 3, 4, 5]\n",
      "[1, 2, 3, 4, 5]\n",
      "[1, 2, 3, 4, 5, 10, 9]\n",
      "[1, 2, 3, 4, 5, 6]\n",
      "[1, 2, 3, 4, 5, 10, 9]\n"
     ]
    }
   ],
   "source": [
    "a=[1,2,3,4,5]\n",
    "b=a.copy() #shallow copy\n",
    "c=a  #reference copy\n",
    "print(a)\n",
    "print(b)\n",
    "print(c)\n",
    "a.append(10)\n",
    "b.append(6)\n",
    "c.append(9)\n",
    "print(a)\n",
    "print(b)\n",
    "print(c)"
   ]
  },
  {
   "cell_type": "code",
   "execution_count": 40,
   "metadata": {},
   "outputs": [
    {
     "name": "stdout",
     "output_type": "stream",
     "text": [
      "[1, 9, 4, 49]\n",
      "[1, 9, 4, 49]\n"
     ]
    }
   ],
   "source": [
    "#Comprehension\n",
    "x=[1,3,2,7]\n",
    "x2=[]\n",
    "for i in x:\n",
    "#     s=i**2\n",
    "#     x2.append(s)\n",
    "# print(x2)\n",
    "\n",
    " x2=list(map(lambda i:i**2,x)) #lambda and map\n",
    "print(x2)\n",
    "\n",
    "x2=[i**2 for i in x]  #comprehension method specific to list\n",
    "print(x2)"
   ]
  },
  {
   "cell_type": "markdown",
   "metadata": {},
   "source": [
    "new list=[operation  loop  conditions(optional) ] >> comprehension"
   ]
  },
  {
   "cell_type": "code",
   "execution_count": 45,
   "metadata": {},
   "outputs": [
    {
     "name": "stdout",
     "output_type": "stream",
     "text": [
      "[-4, -1, 1, 2, 3]\n",
      "[16, 36, 64]\n"
     ]
    }
   ],
   "source": [
    "b=[1,4,6,7,8,]\n",
    "b5=[i-5 for i in b ]\n",
    "print(b5)\n",
    "aeven=[i**2 for i in b if i%2==0]\n",
    "print(aeven)\n"
   ]
  },
  {
   "cell_type": "code",
   "execution_count": 51,
   "metadata": {},
   "outputs": [
    {
     "name": "stdout",
     "output_type": "stream",
     "text": [
      "['as', 'bb', 'cg', 'dw']\n",
      "['aw', 'bw', 'cw', 'dw']\n"
     ]
    }
   ],
   "source": [
    "init=[]\n",
    "names=['alice smith','bob brown','charlie green','david white']\n",
    "for n in names:\n",
    "    part=n.split()\n",
    "    init.append(f\"{n.split()[0][0]}{n.split()[1][0]}\")\n",
    "print(init)\n",
    "\n",
    "#comprehension\n",
    "init=[f\"{i.split()[0][0]}{n.split()[1][0]}\" for i in names]\n",
    "print(init)\n",
    "\n"
   ]
  }
 ],
 "metadata": {
  "kernelspec": {
   "display_name": "Python 3",
   "language": "python",
   "name": "python3"
  },
  "language_info": {
   "codemirror_mode": {
    "name": "ipython",
    "version": 3
   },
   "file_extension": ".py",
   "mimetype": "text/x-python",
   "name": "python",
   "nbconvert_exporter": "python",
   "pygments_lexer": "ipython3",
   "version": "3.12.3"
  }
 },
 "nbformat": 4,
 "nbformat_minor": 2
}
