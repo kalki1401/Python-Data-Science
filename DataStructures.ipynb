{
 "cells": [
  {
   "cell_type": "code",
   "execution_count": null,
   "metadata": {},
   "outputs": [],
   "source": []
  },
  {
   "cell_type": "markdown",
   "metadata": {},
   "source": [
    " Data Structures\n",
    "\n",
    "List>> indexed DS : ordered DS : Mutable : heterogenous(mixed values can be kept): have duplicates : just values:  []:  list()\n",
    "tuple>>indexed DS : ordered DS : immutable: heterogenous(mixed values can be kept): have duplicate: just values: (): tuple()\n",
    "set>> unindexed DS : Unordered DS: mutable: heterogenous(mixed values can be kept): Only unique values :just values: {}: set()\n",
    "dictionary>> unindexed DS : Ordered DS : mutable: heterogenous(mixed values can be kept): have duplicate: works in Key- value pairs: {}: dict()"
   ]
  },
  {
   "cell_type": "markdown",
   "metadata": {},
   "source": [
    "#List\n",
    "- creating\n",
    "- indexing n slicing (same as string)\n",
    "- comprehension"
   ]
  },
  {
   "cell_type": "code",
   "execution_count": 4,
   "metadata": {},
   "outputs": [
    {
     "name": "stdout",
     "output_type": "stream",
     "text": [
      "[]\n",
      "[1, 2, 3, 4]\n",
      "[1, 'apple', 2, 'mango']\n",
      "[[1, 2, 3], [4, 5, 6]]\n",
      "[[1, 'apple'], [2, 'banana']]\n",
      "['kush', 'lucknow']\n"
     ]
    }
   ],
   "source": [
    "a=[] #empty list\n",
    "b=[1,2,3,4] #numeric list\n",
    "c=[1,'apple',2,'mango'] #mixed list\n",
    "d=[[1,2,3],[4,5,6]] #list of list\n",
    "e=[[1,\"apple\"],[2,\"banana\"]] #mixed nested list\n",
    "f=['kush','lucknow'] #string list\n",
    "print(a)\n",
    "print(b)\n",
    "print(c)\n",
    "print(d)\n",
    "print(e)\n",
    "print(f)\n"
   ]
  },
  {
   "cell_type": "code",
   "execution_count": 3,
   "metadata": {},
   "outputs": [
    {
     "name": "stdout",
     "output_type": "stream",
     "text": [
      "[1, 'apple']\n",
      "[2, 'banana']\n"
     ]
    }
   ],
   "source": [
    "for i in e: #data traversal\n",
    "    print(i)"
   ]
  },
  {
   "cell_type": "code",
   "execution_count": 7,
   "metadata": {},
   "outputs": [
    {
     "name": "stdout",
     "output_type": "stream",
     "text": [
      "['h', 'e', 'l', 'l', 'o']\n",
      "[0, 1, 2, 3, 4, 5, 6, 7, 8, 9]\n",
      "[1, 1, 1, 1, 1, 1, 1, 1, 1, 1]\n"
     ]
    }
   ],
   "source": [
    "g=list('hello')\n",
    "h=list(range(10))\n",
    "i=[1]*10  #duplicated list\n",
    "print(g)\n",
    "print(h)\n",
    "print(i)\n"
   ]
  },
  {
   "cell_type": "code",
   "execution_count": 13,
   "metadata": {},
   "outputs": [
    {
     "name": "stdout",
     "output_type": "stream",
     "text": [
      "Aparichit\n",
      "I\n"
     ]
    }
   ],
   "source": [
    "movies=['Aparichit','koi mil gya','om shanti om','PK','I']\n",
    "print(movies[-len(movies)])\n",
    "print(movies[-1]) #last item\n"
   ]
  },
  {
   "cell_type": "code",
   "execution_count": 18,
   "metadata": {},
   "outputs": [
    {
     "name": "stdout",
     "output_type": "stream",
     "text": [
      "[1, 2, 3]\n",
      "[8, 9, 10]\n",
      "[3, 4, 5, 6, 7, 8]\n",
      "[10, 9, 8, 7, 6, 5, 4, 3, 2, 1]\n"
     ]
    }
   ],
   "source": [
    "number=[1,2,3,4,5,6,7,8,9,10]\n",
    "print(number[:3])\n",
    "print(number[-3:])\n",
    "print(number[2:-2])\n",
    "print(number[::-1])"
   ]
  },
  {
   "cell_type": "markdown",
   "metadata": {},
   "source": [
    "- #list method (11)\n",
    "⬇️⬇️⬇️⬇️⬇️⬇️⬇️⬇️⬇️\n",
    "\n",
    "- adding/updating\n",
    "  -'append()'\n",
    "  -'extend()'\n",
    "  - 'insert()\n",
    "\n",
    "- removal/deletion\n",
    "  - 'remove()'\n",
    "  - 'pop()'\n",
    "  - 'clear()'\n",
    "\n",
    "- utility\n",
    " - sort()\n",
    " - reverse()\n",
    " - index()\n",
    " - count()\n",
    " - copy()"
   ]
  },
  {
   "cell_type": "code",
   "execution_count": 19,
   "metadata": {},
   "outputs": [
    {
     "name": "stdout",
     "output_type": "stream",
     "text": [
      "fav book ['harry potter and the goblet of fire', 'twilight saga', 'Polity by M.Laxmikant', 'geography by Savinder singh', 'Physics by HC Srivastava']\n",
      "hated book ['dictionary', 'hardy boy', 'gigi']\n"
     ]
    }
   ],
   "source": [
    "fav_book=[]\n",
    "hated_book=[]\n",
    "for i in range(5):\n",
    "    book=input(\"Input your fav book:\")\n",
    "    fav_book.append(book)\n",
    "for i in range(3):\n",
    "    book=input(\"Input your hated book:\")\n",
    "    hated_book.append(book)\n",
    "\n",
    "print(\"fav book\",fav_book)\n",
    "print(\"hated book\",hated_book)\n"
   ]
  },
  {
   "cell_type": "code",
   "execution_count": 20,
   "metadata": {},
   "outputs": [
    {
     "name": "stdout",
     "output_type": "stream",
     "text": [
      "['dictionary', 'hardy boy', 'gigi', 'ikagai']\n"
     ]
    }
   ],
   "source": [
    "hated_book.append(\"ikagai\")\n",
    "print(hated_book)"
   ]
  },
  {
   "cell_type": "code",
   "execution_count": 28,
   "metadata": {},
   "outputs": [
    {
     "name": "stdout",
     "output_type": "stream",
     "text": [
      "['harry potter and the goblet of fire', 'twilight saga', 'Polity by M.Laxmikant', 'geography by Savinder singh', 'Physics by HC Srivastava', 'dictionary', 'hardy boy', 'gigi', 'ikagai']\n"
     ]
    }
   ],
   "source": [
    "#merging of lists and create a new list\n",
    "books=fav_book+hated_book\n",
    "print(books)"
   ]
  },
  {
   "cell_type": "code",
   "execution_count": 24,
   "metadata": {},
   "outputs": [
    {
     "name": "stdout",
     "output_type": "stream",
     "text": [
      "['harry potter and the goblet of fire', 'twilight saga', 'Polity by M.Laxmikant', 'geography by Savinder singh', 'Physics by HC Srivastava', 'dictionary', 'hardy boy', 'gigi', 'ikagai', 'hatim', 'Ali baba 40 chor', 'Aladdin', 'hatim', 'Ali baba 40 chor', 'Aladdin']\n",
      "The count of Books : 15\n"
     ]
    }
   ],
   "source": [
    "#adding a list to the existing list\n",
    "books.extend(['hatim','Ali baba 40 chor','Aladdin'])\n",
    "print(books)\n",
    "print(\"The count of Books :\",len(books))"
   ]
  },
  {
   "cell_type": "code",
   "execution_count": 30,
   "metadata": {},
   "outputs": [
    {
     "name": "stdout",
     "output_type": "stream",
     "text": [
      "['harry potter and the goblet of fire', 'twilight saga', 'Polity by M.Laxmikant', 'geography by Savinder singh', 'Physics by HC Srivastava', 'dictionary', 'hardy boy', 'gigi', 'ikagai', ['marino', 'jacobian']]\n"
     ]
    }
   ],
   "source": [
    "# books.append([\"marino\",\"jacobian\"]) #nested type\n",
    "# print(books)"
   ]
  },
  {
   "cell_type": "code",
   "execution_count": 34,
   "metadata": {},
   "outputs": [
    {
     "name": "stdout",
     "output_type": "stream",
     "text": [
      "['harry potter and the goblet of fire', 'twilight saga', 'Alchemist', 'Alchemist', 'Polity by M.Laxmikant', 'geography by Savinder singh', 'Physics by HC Srivastava', 'Alchemist', 'dictionary', 'hardy boy', 'gigi', 'ikagai', ['marino', 'jacobian']]\n"
     ]
    }
   ],
   "source": [
    "books.insert(7,\"Alchemist\")\n",
    "print(books)"
   ]
  },
  {
   "cell_type": "code",
   "execution_count": 35,
   "metadata": {},
   "outputs": [
    {
     "data": {
      "text/plain": [
       "['harry potter and the goblet of fire',\n",
       " 'twilight saga',\n",
       " 'Alchemist',\n",
       " 'Alchemist',\n",
       " 'Polity by M.Laxmikant',\n",
       " 'geography by Savinder singh',\n",
       " 'Physics by HC Srivastava',\n",
       " 'Alchemist',\n",
       " 'dictionary',\n",
       " 'hardy boy',\n",
       " 'gigi',\n",
       " 'ikagai',\n",
       " ['marino', 'jacobian']]"
      ]
     },
     "execution_count": 35,
     "metadata": {},
     "output_type": "execute_result"
    }
   ],
   "source": [
    "books"
   ]
  },
  {
   "cell_type": "code",
   "execution_count": 36,
   "metadata": {},
   "outputs": [
    {
     "data": {
      "text/plain": [
       "['harry potter and the goblet of fire',\n",
       " 'twilight saga',\n",
       " 'Alchemist',\n",
       " 'Alchemist',\n",
       " 'Polity by M.Laxmikant',\n",
       " 'Game of Thrones',\n",
       " 'Physics by HC Srivastava',\n",
       " 'Alchemist',\n",
       " 'dictionary',\n",
       " 'hardy boy',\n",
       " 'gigi',\n",
       " 'ikagai',\n",
       " ['marino', 'jacobian']]"
      ]
     },
     "execution_count": 36,
     "metadata": {},
     "output_type": "execute_result"
    }
   ],
   "source": [
    "#replace\n",
    "books[5]=\"Game of Thrones\"\n",
    "books"
   ]
  },
  {
   "cell_type": "code",
   "execution_count": 39,
   "metadata": {},
   "outputs": [
    {
     "data": {
      "text/plain": [
       "['harry potter and the goblet of fire',\n",
       " 'twilight saga',\n",
       " 'Polity by M.Laxmikant',\n",
       " 'Game of Thrones',\n",
       " 'Physics by HC Srivastava',\n",
       " 'dictionary',\n",
       " 'hardy boy',\n",
       " 'gigi',\n",
       " 'ikagai',\n",
       " ['marino', 'jacobian']]"
      ]
     },
     "execution_count": 39,
     "metadata": {},
     "output_type": "execute_result"
    }
   ],
   "source": [
    "# remove(): value Based removal\n",
    "# pop(): index based removal\n",
    "books.remove(\"Alchemist\")\n",
    "books"
   ]
  },
  {
   "cell_type": "code",
   "execution_count": 42,
   "metadata": {},
   "outputs": [
    {
     "data": {
      "text/plain": [
       "'gigi'"
      ]
     },
     "execution_count": 42,
     "metadata": {},
     "output_type": "execute_result"
    }
   ],
   "source": [
    "books.pop(5)\n"
   ]
  },
  {
   "cell_type": "code",
   "execution_count": 43,
   "metadata": {},
   "outputs": [
    {
     "data": {
      "text/plain": [
       "['marino', 'jacobian']"
      ]
     },
     "execution_count": 43,
     "metadata": {},
     "output_type": "execute_result"
    }
   ],
   "source": [
    "books.pop() #directly removes the last element"
   ]
  },
  {
   "cell_type": "code",
   "execution_count": 45,
   "metadata": {},
   "outputs": [
    {
     "name": "stdout",
     "output_type": "stream",
     "text": [
      "[]\n"
     ]
    }
   ],
   "source": [
    "hated_book.clear() #remove all the elements\n",
    "print(hated_book)\n"
   ]
  },
  {
   "cell_type": "markdown",
   "metadata": {},
   "source": [
    "# WAP  to create an emptylist , then fill the list with 10 prime numbers using a loop starting with 2"
   ]
  }
 ],
 "metadata": {
  "kernelspec": {
   "display_name": "Python 3",
   "language": "python",
   "name": "python3"
  },
  "language_info": {
   "codemirror_mode": {
    "name": "ipython",
    "version": 3
   },
   "file_extension": ".py",
   "mimetype": "text/x-python",
   "name": "python",
   "nbconvert_exporter": "python",
   "pygments_lexer": "ipython3",
   "version": "3.12.3"
  }
 },
 "nbformat": 4,
 "nbformat_minor": 2
}
