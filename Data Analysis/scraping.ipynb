{
 "cells": [
  {
   "cell_type": "code",
   "execution_count": 4,
   "metadata": {},
   "outputs": [],
   "source": [
    "from dputils.scrape import Scraper,Tag"
   ]
  },
  {
   "cell_type": "code",
   "execution_count": 7,
   "metadata": {},
   "outputs": [],
   "source": [
    "url=\"https://www.flipkart.com/samsung-galaxy-z-flip6-5g-blue-256-gb/p/itm8f1b3aefb27f2?pid=MOBH2HG9YRZTHVYH&lid=LSTMOBH2HG9YRZTHVYHUEIDMA&otracker=CLP_BANNER\"\n",
    "s1=Scraper(url)"
   ]
  },
  {
   "cell_type": "code",
   "execution_count": 9,
   "metadata": {},
   "outputs": [
    {
     "data": {
      "text/plain": [
       "{'heading': 'SAMSUNG Galaxy Z Flip6 5G (Blue, 256 GB)\\xa0\\xa0(12 GB RAM)',\n",
       " 'price': '₹1,04,999',\n",
       " 'desc': \" Add to cart Buy NowHomeMobiles & AccessoriesMobilesSAMSUNG MobilesSAMSUNG Galaxy Z Flip6 5G (Blue, 256 GB) (12 GB RAM)\\nCompareShareSAMSUNG Galaxy Z Flip6 5G (Blue, 256 GB)\\xa0\\xa0(12 GB RAM)Be the first to Review this product₹1,04,999₹1,09,9994% offiAvailable offersBank Offer5% Cashback on Flipkart Axis Bank CardT&CPartner OfferSign-up for Flipkart Pay Later & get free Times Prime Benefits worth ₹20,000*Know MorePartner OfferMake a purchase and enjoy a surprise cashback/ coupon that you can redeem later!Know MoreEMI starting from ₹3,692/monthView Plans1 Year Manufacturer Warranty for Device and 6 Months for In-Box AccessoriesKnow MoreColorBlueMintSilver ShadowPlease select a Color to proceed✕Storage256 GB256 GB512 GB512 GBPlease select a Storage to proceed✕DeliveryCheckEnter pincodeDelivery by25 Jul, Thursday|₹60?View DetailsHighlights12 GB RAM | 256 GB ROM17.02 cm (6.7 inch) Full HD+ Display50MP + 12MP | 10MP Front Camera4000 mAh Lithium ion BatterySnapdragon 8 Gen 3 ProcessorEasy Payment OptionsEMI starting from ₹3,692/monthCash on DeliveryNet banking & Credit/ Debit/ ATM cardView DetailsSellerDEVERP3.77 Days Service Center Replacement/Repair?See other sellersDescriptionNARead MoreProduct DescriptionGalaxy Z Flip 6This Samsung Galaxy Z Flip 6 comes with an array of features to elevate your everyday activities with style and convenience.\\nGalaxy AIThis Flip 6 smartphone from Galaxy is a true game changer, with its AI-backed features and compact size.\\nCircle to SearchSimply circle an object or text to get Google Search results.\\nLive TranslateGet real-time voice translation on various apps when you make a call.\\nYour Window, Your WayYou can seamlessly get access to any window while it's not opened. You can get everything you want your way.\\nMost Compact, Big ImpactGalaxy Z Flip6’s new floating design is modern, slim and sleek, creating this most compact smartphone yet.\\nAI-powered CameraThe most powerful camera on a Galaxy Z Flip, now with AI.\\n50MP Camera. Stunning PortraitsCapture stunning shots during the day but also at night, and even in dimly lit areas, thanks to ProVisual Engine.\\nLong Lasting BatteryYou can enjoy the powerful performance of this smartphone which comes with a 4000 mAh battery.\\nVapor ChamberFirst-ever Vapor Chamber on a Galaxy Z Flip.\\nDurabilityThis smartphone comes with IP48 water resistance to withstand water splashes. While the Corning Gorilla Glass Victrus 2 protects your screen from damage.\\nSmart FeaturesThe smart features from Samsung that come with this smartphone allow you to keep your data and privacy secured.\\nView all featuresSpecificationsGeneralIn The BoxHandset, Data Cable(C to C), Sim Ejection Pin, Quick Start Guide, Protection Film (Main Screen Only)Model NumberSM-F741BLBAINSModel NameGalaxy Z Flip6 5GColorBlueBrowse TypeSmartphonesSIM TypeDual SimHybrid Sim SlotNoTouchscreenYesOTG CompatibleYesQuick ChargingYesDisplay FeaturesDisplay Size17.02 cm (6.7 inch)Resolution2640 x 1080 PixelsResolution TypeFull HD+GPUAdreno 750Display TypeDynamic AMOLED 2XHD Game SupportYesDisplay Colors16 MillionsOther Display Features120Hz Refresh RateOs & Processor FeaturesOperating SystemAndroid 14Processor BrandSnapdragonProcessor TypeSnapdragon 8 Gen 3Processor CoreOcta CorePrimary Clock Speed3.39 GHzSecondary Clock Speed3.1 GHzTertiary Clock Speed2.9 GHzOperating Frequency5G: N1(2100), N2(1900), N3(1800), N5(850), N7(2600), N8(900), N12(700), N20(800), N25(1900), N26(850), N28(700), N66(AWS-3)Memory & Storage FeaturesInternal Storage256 GBRAM12 GBTotal Memory256 GBPhone Book MemoryYesCall Log MemoryYesSMS MemoryYesCamera FeaturesPrimary Camera AvailableYesPrimary Camera50MP + 12MPPrimary Camera FeaturesDual Camera Setup: 50MP Main Camera + 12MP, Features: AR Zone, Bixby Vision, Dual Recording, Food, Hyperlapse, Macro, Night, Panorama, Photo, Portrait, Portrait Video, Pro, Pro Video, Single Take, VideoOptical ZoomYesSecondary Camera AvailableYesSecondary Camera10MP Front CameraSecondary Camera FeaturesFront Camera Setup: 10MP Camera, Features: Fixed FocusFlashRear FlashHD RecordingYesFull HD RecordingYesVideo RecordingYesVideo Recording ResolutionUHD 4K (3840 x 2160) (at 60 fps)Digital ZoomUpto 10XFrame Rate60 fpsImage EditorYesDual Camera LensPrimary CameraCall FeaturesCall Wait/HoldYesConference CallYesHands FreeYesVideo Call SupportYesCall DivertYesPhone BookYesCall TimerYesSpeaker PhoneYesSpeed DialingYesCall RecordsOutgoing, MissedLogsIncoming Calls, Outgoing Calls, Missed Calls, Spam CallsConnectivity FeaturesNetwork Type5G, 4G, 3G, 2GSupported Networks5G, 4G LTE, WCDMA, GSMInternet Connectivity5G, 4G LTE, 3G, 2G, GPRS3GYes3G SpeedHSPA+ 42, 5.76MbpsGPRSYesPre-installed BrowserGoogle Chrome, Samsung InternetMicro USB PortYesMicro USB VersionUSB 3.2 Gen 1Mini USB PortNoBluetooth SupportYesBluetooth Versionv5.3Wi-FiYesWi-Fi Version802.11 a/b/g/n/ac/ax (2.4 GHz | 5 GHz), HE160, MIMO, 1024-QAMWi-Fi HotspotYesMini HDMI PortNoNFCYesUSB TetheringYesTV OutNoInfraredNoUSB ConnectivityYesAudio JackType-CMap SupportGoogle MapsOther DetailsSmartphoneYesTouchscreen TypeCapactiveSIM SizeNano SimMobile TrackerNoSocial Networking PhoneYesInstant MessageYesBusiness PhoneNoRemovable BatteryNoMMSYesSMSYesKeypadNoVoice InputYesGraphics PPI425 PPIPredictive Text InputYesUser Memory227.7SIM AccessDual/SingleSensorsAccelerometer, Barometer, Fingerprint Sensor, Gyro Sensor, Geomagnetic Sensor, Hall Sensor, Light Sensor, Proximity SensorUpgradable Operating System7 OS Upgrade Expectation CountSeriesSamsung Galaxy Z Flip6 5GBrowserGoogle Chrome, Samsung InternetRingtones FormatMP3, M4A, 3GA, AAC, OGG, OGA, WAV, AMR, AWB, FLAC, MID, MIDI, XMF, MXMF, IMY, RTTTL, RTX, OTAMultimedia FeaturesFM RadioNoFM Radio RecordingNoDLNA SupportNoAudio FormatsMP3, M4A, 3GA, AAC, OGG, OGA, WAV, AMR, AWB, FLAC, MID, MIDI, XMF, MXMF, IMY, RTTTL, RTX, OTAVideo FormatsMP4, M4V, 3GP, 3G2, AVI, FLV, MKV, WEBMBattery & Power FeaturesBattery Capacity4000 mAhDual BatteryYesDimensionsWidth71.9 mmHeight165.1 mmDepth6.9 mmWeight187 gWarrantyWarranty Summary1 Year Manufacturer Warranty for Device and 6 Months for In-Box AccessoriesCovered in WarrantyManufacturing Defects OnlyDomestic Warranty1 YearRead MoreFrequently Bought TogetherSAMSUNG Galaxy Z Flip6 5G (Blue, 256 GB)₹1,04,999₹1,09,9994% offSAMSUNG 25 W GaN 3 A Mobile Charger with Detachable Cable4.4(1,831)₹1,199SAMSUNG Flip Cover for Samsung Galaxy Z Flip6₹3,4991 Item₹1,04,9992 Add-ons₹4,698Total₹1,09,697Add 3 Items to CartQuestions and AnswersQ:Does the phone have a dedicated memory card slot as I want to use the memory card?A:Memory card slot is not present in Galaxy Z Flip6.BTPLDFlipkart Seller2210Report AbuseQ:Does the phone support 5G networks?A:Galaxy Z Flip6 supports 5G network.BTPLDFlipkart Seller126Report AbuseQ:Does the phone support Dual 5G?A:Galaxy Z Flip6 supports Dual 5G.BTPLDFlipkart Seller127Report AbuseQ:Does the front camera have LED flash?A:Galaxy Z Flip6 does not have front camera flash.BTPLDFlipkart Seller01Report AbuseQ:How long does the battery last?A:Galaxy Z Flip6 gives 23 hours of video Playback and 68 hours of audio Playback.BTPLDFlipkart Seller00Report AbuseQ:What are the contents available inbox?A:Inbox includes Device, Quick Start Guide, Type C-to-C Data cable, SIM Ejector tool and Protection Film.BTPLDFlipkart Seller10Report AbuseQ:Does the phone have Portrait mode,Bokeh effect?A:Portraint and Bokeh camera features are present in Galaxy Z Flip6.BTPLDFlipkart Seller00Report AbuseQ:Does the phone have Secure Folder?A:Secure Folder is present in Galaxy Z Flip6.BTPLDFlipkart Seller10Report AbuseQ:Does it have Always On Display feature?A:Always On Display feature is present in Galaxy Z Flip6.BTPLDFlipkart Seller10Report AbuseQ:Does the phone have Knox security?A:Knox security is present in Galaxy Z Flip6.BTPLDFlipkart Seller10Report AbuseAll questions+Safe and Secure Payments.Easy returns.100% Authentic products.\"}"
      ]
     },
     "execution_count": 9,
     "metadata": {},
     "output_type": "execute_result"
    }
   ],
   "source": [
    "heading=Tag('h1',cls=\"_6EBuvT\")\n",
    "price=Tag(cls=\"Nx9bqj CxhGGd\")\n",
    "desc=Tag(cls=\"DOjaWF YJG4Cf\")\n",
    "result=s1.get_data_from_page(heading=heading,price=price,desc=desc)"
   ]
  },
  {
   "cell_type": "code",
   "execution_count": 24,
   "metadata": {},
   "outputs": [
    {
     "data": {
      "text/plain": [
       "[{'title': None, 'price': None, 'rating': None},\n",
       " {'title': None, 'price': None, 'rating': None},\n",
       " {'title': 'SAMSUNG Galaxy M34 5G (Waterfall Blue, 128 GB)',\n",
       "  'price': '₹15,399',\n",
       "  'rating': None},\n",
       " {'title': 'SAMSUNG Galaxy M34 5G (Waterfall Blue, 128 GB)',\n",
       "  'price': '₹18,299',\n",
       "  'rating': None},\n",
       " {'title': 'SAMSUNG Galaxy M34 5G without charger (Prism Silver, 128 GB)',\n",
       "  'price': '₹19,990',\n",
       "  'rating': None},\n",
       " {'title': 'SAMSUNG Galaxy F34 5G (Mystic Green, 128 GB)',\n",
       "  'price': '₹16,499',\n",
       "  'rating': None},\n",
       " {'title': 'SAMSUNG Galaxy M34 5G without charger (Midnight Blue, 128 GB)',\n",
       "  'price': '₹15,990',\n",
       "  'rating': None},\n",
       " {'title': 'SAMSUNG Galaxy F34 5G (Electric Black, 128 GB)',\n",
       "  'price': '₹16,499',\n",
       "  'rating': None},\n",
       " {'title': 'SAMSUNG Galaxy F15 5G (Ash Black, 128 GB)',\n",
       "  'price': '₹15,999',\n",
       "  'rating': None},\n",
       " {'title': 'SAMSUNG Galaxy F34 5G (Mystic Green, 128 GB)',\n",
       "  'price': '₹15,499',\n",
       "  'rating': None},\n",
       " {'title': 'SAMSUNG Galaxy F15 5G (Groovy Violet, 128 GB)',\n",
       "  'price': '₹15,999',\n",
       "  'rating': None},\n",
       " {'title': 'SAMSUNG Galaxy F15 5G (Jazzy Green, 128 GB)',\n",
       "  'price': '₹15,999',\n",
       "  'rating': None},\n",
       " {'title': 'SAMSUNG Galaxy A15 5G (Blue Black, 128 GB)',\n",
       "  'price': '₹17,999',\n",
       "  'rating': None},\n",
       " {'title': 'SAMSUNG Galaxy F34 5G (Orchid Violet, 128 GB)',\n",
       "  'price': '₹16,499',\n",
       "  'rating': None},\n",
       " {'title': 'SAMSUNG Galaxy M14 5G (ICY Silver, 128 GB)',\n",
       "  'price': None,\n",
       "  'rating': None},\n",
       " {'title': 'SAMSUNG Galaxy M34 5G without charger (Prism Silver, 128 GB)',\n",
       "  'price': '₹18,465',\n",
       "  'rating': None},\n",
       " {'title': 'SAMSUNG Galaxy M34 5G without charger (Midnight Blue, 128 GB)',\n",
       "  'price': '₹18,235',\n",
       "  'rating': None},\n",
       " {'title': 'SAMSUNG Galaxy A15 5G (Blue, 128 GB)',\n",
       "  'price': '₹17,999',\n",
       "  'rating': None},\n",
       " {'title': 'SAMSUNG Galaxy F15 5G (Ash Black, 128 GB)',\n",
       "  'price': '₹16,799',\n",
       "  'rating': None},\n",
       " {'title': 'SAMSUNG Galaxy A15 5G (Blue Black, 128 GB)',\n",
       "  'price': '₹19,499',\n",
       "  'rating': None},\n",
       " {'title': 'SAMSUNG Galaxy A15 5G (Light Blue, 128 GB)',\n",
       "  'price': '₹17,999',\n",
       "  'rating': None},\n",
       " {'title': 'SAMSUNG Galaxy A15 5G (Light Blue, 128 GB)',\n",
       "  'price': '₹19,499',\n",
       "  'rating': None},\n",
       " {'title': 'SAMSUNG Galaxy M33 5G (Deep Ocean Blue, 128 GB)',\n",
       "  'price': '₹17,999',\n",
       "  'rating': None},\n",
       " {'title': 'SAMSUNG Galaxy A23 5G (Silver, 128 GB)',\n",
       "  'price': '₹19,499',\n",
       "  'rating': None},\n",
       " {'title': 'SAMSUNG Galaxy A23 5G (Orange, 128 GB)',\n",
       "  'price': '₹19,499',\n",
       "  'rating': None},\n",
       " {'title': 'SAMSUNG Galaxy A23 5G (Light Blue, 128 GB)',\n",
       "  'price': '₹19,499',\n",
       "  'rating': None},\n",
       " {'title': None, 'price': None, 'rating': None},\n",
       " {'title': None, 'price': None, 'rating': None}]"
      ]
     },
     "execution_count": 24,
     "metadata": {},
     "output_type": "execute_result"
    }
   ],
   "source": [
    "items=Tag(cls=\"cPHDOP col-12-12\")\n",
    "url='https://www.flipkart.com/search?count=40&otracker=CLP_filters&p%5B%5D=facets.price_range.from%3D15000&p%5B%5D=facets.price_range.to%3D20000&p%5B%5D=facets.brand%255B%255D%3DSamsung&sid=tyy%2F4io&ctx=eyJjYXJkQ29udGV4dCI6eyJhdHRyaWJ1dGVzIjp7InRpdGxlIjp7Im11bHRpVmFsdWVkQXR0cmlidXRlIjp7ImtleSI6InRpdGxlIiwiaW5mZXJlbmNlVHlwZSI6IlRJVExFIiwidmFsdWVzIjpbIlNhbXN1bmcgTW9iaWxlIHVuZGVyIOKCuTIwSyJdLCJ2YWx1ZVR5cGUiOiJNVUxUSV9WQUxVRUQifX19fX0%3D&wid=5.productCard.PMU_V2_5'\n",
    "s2=Scraper(url)\n",
    "results=s2.get_repeating_date_from_page(\n",
    "    target=Tag('body'),\n",
    "    items=items,\n",
    "    title=Tag(cls='KzDlHZ'),\n",
    "    price=Tag(cls='Nx9bqj _4b5DiR'),\n",
    "    rating=Tag('span',cls='Nx9bqj _4b5DiR'), \n",
    ")\n",
    "results"
   ]
  },
  {
   "cell_type": "code",
   "execution_count": 6,
   "metadata": {},
   "outputs": [],
   "source": [
    "from sqlalchemy import create_engine,Table,Column,Integer,String,Float,DateTime\n",
    "from sqlalchemy.orm import Session,declarative_base\n",
    "from datetime import datetime\n",
    "\n",
    "Base=declarative_base()\n",
    "class results(Base):\n",
    "    __tablename__=\"results\"\n",
    "    id=Column(Integer,primary_key=True)\n",
    "    items=Column(String)\n",
    "    title=Column(String)\n",
    "    price=Column(Float)\n",
    "    rating=Column(Float)\n",
    "    created_at=Column(DateTime,default=datetime.now)"
   ]
  },
  {
   "cell_type": "code",
   "execution_count": 7,
   "metadata": {},
   "outputs": [
    {
     "ename": "NoSuchModuleError",
     "evalue": "Can't load plugin: sqlalchemy.dialects:https",
     "output_type": "error",
     "traceback": [
      "\u001b[1;31m---------------------------------------------------------------------------\u001b[0m",
      "\u001b[1;31mNoSuchModuleError\u001b[0m                         Traceback (most recent call last)",
      "Cell \u001b[1;32mIn[7], line 1\u001b[0m\n\u001b[1;32m----> 1\u001b[0m engine\u001b[38;5;241m=\u001b[39m\u001b[43mcreate_engine\u001b[49m\u001b[43m(\u001b[49m\u001b[38;5;124;43m'\u001b[39;49m\u001b[38;5;124;43mhttps://www.flipkart.com/search?count=40&otracker=CLP_filters&p\u001b[39;49m\u001b[38;5;124;43m%\u001b[39;49m\u001b[38;5;124;43m5B\u001b[39;49m\u001b[38;5;124;43m%\u001b[39;49m\u001b[38;5;124;43m5D=facets.price_range.from\u001b[39;49m\u001b[38;5;124;43m%\u001b[39;49m\u001b[38;5;124;43m3D15000&p\u001b[39;49m\u001b[38;5;124;43m%\u001b[39;49m\u001b[38;5;124;43m5B\u001b[39;49m\u001b[38;5;124;43m%\u001b[39;49m\u001b[38;5;124;43m5D=facets.price_range.to\u001b[39;49m\u001b[38;5;124;43m%\u001b[39;49m\u001b[38;5;124;43m3D20000&p\u001b[39;49m\u001b[38;5;124;43m%\u001b[39;49m\u001b[38;5;124;43m5B\u001b[39;49m\u001b[38;5;124;43m%\u001b[39;49m\u001b[38;5;124;43m5D=facets.brand\u001b[39;49m\u001b[38;5;124;43m%\u001b[39;49m\u001b[38;5;124;43m255B\u001b[39;49m\u001b[38;5;124;43m%\u001b[39;49m\u001b[38;5;124;43m255D\u001b[39;49m\u001b[38;5;124;43m%\u001b[39;49m\u001b[38;5;124;43m3DSamsung&sid=tyy\u001b[39;49m\u001b[38;5;132;43;01m%2F\u001b[39;49;00m\u001b[38;5;124;43m4io&ctx=eyJjYXJkQ29udGV4dCI6eyJhdHRyaWJ1dGVzIjp7InRpdGxlIjp7Im11bHRpVmFsdWVkQXR0cmlidXRlIjp7ImtleSI6InRpdGxlIiwiaW5mZXJlbmNlVHlwZSI6IlRJVExFIiwidmFsdWVzIjpbIlNhbXN1bmcgTW9iaWxlIHVuZGVyIOKCuTIwSyJdLCJ2YWx1ZVR5cGUiOiJNVUxUSV9WQUxVRUQifX19fX0\u001b[39;49m\u001b[38;5;124;43m%\u001b[39;49m\u001b[38;5;124;43m3D&wid=5.productCard.PMU_V2_5\u001b[39;49m\u001b[38;5;124;43m'\u001b[39;49m\u001b[43m,\u001b[49m\u001b[43mecho\u001b[49m\u001b[38;5;241;43m=\u001b[39;49m\u001b[38;5;28;43;01mTrue\u001b[39;49;00m\u001b[43m)\u001b[49m\n\u001b[0;32m      2\u001b[0m Base\u001b[38;5;241m.\u001b[39mmetadata\u001b[38;5;241m.\u001b[39mcreate_all(results)\n",
      "File \u001b[1;32m<string>:2\u001b[0m, in \u001b[0;36mcreate_engine\u001b[1;34m(url, **kwargs)\u001b[0m\n",
      "File \u001b[1;32mc:\\Users\\DELL\\AppData\\Local\\Programs\\Python\\Python312\\Lib\\site-packages\\sqlalchemy\\util\\deprecations.py:281\u001b[0m, in \u001b[0;36mdeprecated_params.<locals>.decorate.<locals>.warned\u001b[1;34m(fn, *args, **kwargs)\u001b[0m\n\u001b[0;32m    274\u001b[0m     \u001b[38;5;28;01mif\u001b[39;00m m \u001b[38;5;129;01min\u001b[39;00m kwargs:\n\u001b[0;32m    275\u001b[0m         _warn_with_version(\n\u001b[0;32m    276\u001b[0m             messages[m],\n\u001b[0;32m    277\u001b[0m             versions[m],\n\u001b[0;32m    278\u001b[0m             version_warnings[m],\n\u001b[0;32m    279\u001b[0m             stacklevel\u001b[38;5;241m=\u001b[39m\u001b[38;5;241m3\u001b[39m,\n\u001b[0;32m    280\u001b[0m         )\n\u001b[1;32m--> 281\u001b[0m \u001b[38;5;28;01mreturn\u001b[39;00m \u001b[43mfn\u001b[49m\u001b[43m(\u001b[49m\u001b[38;5;241;43m*\u001b[39;49m\u001b[43margs\u001b[49m\u001b[43m,\u001b[49m\u001b[43m \u001b[49m\u001b[38;5;241;43m*\u001b[39;49m\u001b[38;5;241;43m*\u001b[39;49m\u001b[43mkwargs\u001b[49m\u001b[43m)\u001b[49m\n",
      "File \u001b[1;32mc:\\Users\\DELL\\AppData\\Local\\Programs\\Python\\Python312\\Lib\\site-packages\\sqlalchemy\\engine\\create.py:550\u001b[0m, in \u001b[0;36mcreate_engine\u001b[1;34m(url, **kwargs)\u001b[0m\n\u001b[0;32m    546\u001b[0m u \u001b[38;5;241m=\u001b[39m _url\u001b[38;5;241m.\u001b[39mmake_url(url)\n\u001b[0;32m    548\u001b[0m u, plugins, kwargs \u001b[38;5;241m=\u001b[39m u\u001b[38;5;241m.\u001b[39m_instantiate_plugins(kwargs)\n\u001b[1;32m--> 550\u001b[0m entrypoint \u001b[38;5;241m=\u001b[39m \u001b[43mu\u001b[49m\u001b[38;5;241;43m.\u001b[39;49m\u001b[43m_get_entrypoint\u001b[49m\u001b[43m(\u001b[49m\u001b[43m)\u001b[49m\n\u001b[0;32m    551\u001b[0m _is_async \u001b[38;5;241m=\u001b[39m kwargs\u001b[38;5;241m.\u001b[39mpop(\u001b[38;5;124m\"\u001b[39m\u001b[38;5;124m_is_async\u001b[39m\u001b[38;5;124m\"\u001b[39m, \u001b[38;5;28;01mFalse\u001b[39;00m)\n\u001b[0;32m    552\u001b[0m \u001b[38;5;28;01mif\u001b[39;00m _is_async:\n",
      "File \u001b[1;32mc:\\Users\\DELL\\AppData\\Local\\Programs\\Python\\Python312\\Lib\\site-packages\\sqlalchemy\\engine\\url.py:758\u001b[0m, in \u001b[0;36mURL._get_entrypoint\u001b[1;34m(self)\u001b[0m\n\u001b[0;32m    756\u001b[0m \u001b[38;5;28;01melse\u001b[39;00m:\n\u001b[0;32m    757\u001b[0m     name \u001b[38;5;241m=\u001b[39m \u001b[38;5;28mself\u001b[39m\u001b[38;5;241m.\u001b[39mdrivername\u001b[38;5;241m.\u001b[39mreplace(\u001b[38;5;124m\"\u001b[39m\u001b[38;5;124m+\u001b[39m\u001b[38;5;124m\"\u001b[39m, \u001b[38;5;124m\"\u001b[39m\u001b[38;5;124m.\u001b[39m\u001b[38;5;124m\"\u001b[39m)\n\u001b[1;32m--> 758\u001b[0m \u001b[38;5;28mcls\u001b[39m \u001b[38;5;241m=\u001b[39m \u001b[43mregistry\u001b[49m\u001b[38;5;241;43m.\u001b[39;49m\u001b[43mload\u001b[49m\u001b[43m(\u001b[49m\u001b[43mname\u001b[49m\u001b[43m)\u001b[49m\n\u001b[0;32m    759\u001b[0m \u001b[38;5;66;03m# check for legacy dialects that\u001b[39;00m\n\u001b[0;32m    760\u001b[0m \u001b[38;5;66;03m# would return a module with 'dialect' as the\u001b[39;00m\n\u001b[0;32m    761\u001b[0m \u001b[38;5;66;03m# actual class\u001b[39;00m\n\u001b[0;32m    762\u001b[0m \u001b[38;5;28;01mif\u001b[39;00m (\n\u001b[0;32m    763\u001b[0m     \u001b[38;5;28mhasattr\u001b[39m(\u001b[38;5;28mcls\u001b[39m, \u001b[38;5;124m\"\u001b[39m\u001b[38;5;124mdialect\u001b[39m\u001b[38;5;124m\"\u001b[39m)\n\u001b[0;32m    764\u001b[0m     \u001b[38;5;129;01mand\u001b[39;00m \u001b[38;5;28misinstance\u001b[39m(\u001b[38;5;28mcls\u001b[39m\u001b[38;5;241m.\u001b[39mdialect, \u001b[38;5;28mtype\u001b[39m)\n\u001b[0;32m    765\u001b[0m     \u001b[38;5;129;01mand\u001b[39;00m \u001b[38;5;28missubclass\u001b[39m(\u001b[38;5;28mcls\u001b[39m\u001b[38;5;241m.\u001b[39mdialect, Dialect)\n\u001b[0;32m    766\u001b[0m ):\n",
      "File \u001b[1;32mc:\\Users\\DELL\\AppData\\Local\\Programs\\Python\\Python312\\Lib\\site-packages\\sqlalchemy\\util\\langhelpers.py:375\u001b[0m, in \u001b[0;36mPluginLoader.load\u001b[1;34m(self, name)\u001b[0m\n\u001b[0;32m    372\u001b[0m         \u001b[38;5;28mself\u001b[39m\u001b[38;5;241m.\u001b[39mimpls[name] \u001b[38;5;241m=\u001b[39m impl\u001b[38;5;241m.\u001b[39mload\n\u001b[0;32m    373\u001b[0m         \u001b[38;5;28;01mreturn\u001b[39;00m impl\u001b[38;5;241m.\u001b[39mload()\n\u001b[1;32m--> 375\u001b[0m \u001b[38;5;28;01mraise\u001b[39;00m exc\u001b[38;5;241m.\u001b[39mNoSuchModuleError(\n\u001b[0;32m    376\u001b[0m     \u001b[38;5;124m\"\u001b[39m\u001b[38;5;124mCan\u001b[39m\u001b[38;5;124m'\u001b[39m\u001b[38;5;124mt load plugin: \u001b[39m\u001b[38;5;132;01m%s\u001b[39;00m\u001b[38;5;124m:\u001b[39m\u001b[38;5;132;01m%s\u001b[39;00m\u001b[38;5;124m\"\u001b[39m \u001b[38;5;241m%\u001b[39m (\u001b[38;5;28mself\u001b[39m\u001b[38;5;241m.\u001b[39mgroup, name)\n\u001b[0;32m    377\u001b[0m )\n",
      "\u001b[1;31mNoSuchModuleError\u001b[0m: Can't load plugin: sqlalchemy.dialects:https"
     ]
    }
   ],
   "source": [
    "engine=create_engine('https://www.flipkart.com/search?count=40&otracker=CLP_filters&p%5B%5D=facets.price_range.from%3D15000&p%5B%5D=facets.price_range.to%3D20000&p%5B%5D=facets.brand%255B%255D%3DSamsung&sid=tyy%2F4io&ctx=eyJjYXJkQ29udGV4dCI6eyJhdHRyaWJ1dGVzIjp7InRpdGxlIjp7Im11bHRpVmFsdWVkQXR0cmlidXRlIjp7ImtleSI6InRpdGxlIiwiaW5mZXJlbmNlVHlwZSI6IlRJVExFIiwidmFsdWVzIjpbIlNhbXN1bmcgTW9iaWxlIHVuZGVyIOKCuTIwSyJdLCJ2YWx1ZVR5cGUiOiJNVUxUSV9WQUxVRUQifX19fX0%3D&wid=5.productCard.PMU_V2_5',echo=True)\n",
    "Base.metadata.create_all(results)"
   ]
  }
 ],
 "metadata": {
  "kernelspec": {
   "display_name": "Python 3",
   "language": "python",
   "name": "python3"
  },
  "language_info": {
   "codemirror_mode": {
    "name": "ipython",
    "version": 3
   },
   "file_extension": ".py",
   "mimetype": "text/x-python",
   "name": "python",
   "nbconvert_exporter": "python",
   "pygments_lexer": "ipython3",
   "version": "3.12.3"
  }
 },
 "nbformat": 4,
 "nbformat_minor": 2
}
