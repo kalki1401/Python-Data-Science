{
 "cells": [
  {
   "cell_type": "code",
   "execution_count": 2,
   "metadata": {},
   "outputs": [
    {
     "name": "stdout",
     "output_type": "stream",
     "text": [
      "57500.0\n"
     ]
    }
   ],
   "source": [
    "bs=50000\n",
    "hra=bs*(5/100)\n",
    "da=bs*(10/100)\n",
    "gross=bs+hra+da\n",
    "print(gross)"
   ]
  },
  {
   "cell_type": "code",
   "execution_count": 1,
   "metadata": {},
   "outputs": [
    {
     "name": "stdout",
     "output_type": "stream",
     "text": [
      "314.2857142857143\n"
     ]
    }
   ],
   "source": [
    "r=10\n",
    "a=22/7*10*10\n",
    "print(a)"
   ]
  },
  {
   "cell_type": "code",
   "execution_count": 3,
   "metadata": {},
   "outputs": [
    {
     "name": "stdout",
     "output_type": "stream",
     "text": [
      "0\n",
      "1\n",
      "1\n",
      "2\n",
      "3\n",
      "5\n",
      "8\n",
      "13\n",
      "21\n"
     ]
    }
   ],
   "source": [
    "num=int(input(\"ENTER THE VALUE :\"))\n",
    "x=0\n",
    "y=1\n",
    "z=0\n",
    "while(z<=num):\n",
    "    print(z)\n",
    "    x=y\n",
    "    y=z\n",
    "    z=x+y\n",
    "    \n"
   ]
  },
  {
   "cell_type": "code",
   "execution_count": 7,
   "metadata": {},
   "outputs": [
    {
     "name": "stdout",
     "output_type": "stream",
     "text": [
      "COMPOSITE NUMER😒\n"
     ]
    }
   ],
   "source": [
    "num=int(input(\"enter the value\"))\n",
    "if num<2:\n",
    "    print(\"Naah Bro!! its not a Prime Number 😒\")\n",
    "else:\n",
    "    for i in range(2,num):\n",
    "     if num%i==0:\n",
    "            print(\"COMPOSITE NUMER😒\")\n",
    "            break\n",
    "    else:\n",
    "            print(\"PRIME NUMBER😎\")\n",
    "\n"
   ]
  },
  {
   "cell_type": "code",
   "execution_count": 8,
   "metadata": {},
   "outputs": [
    {
     "name": "stdout",
     "output_type": "stream",
     "text": [
      "⭐⭐⭐⭐/5: NOMINATED FOR FILMAFARE: LAGAAN\n",
      "⭐⭐⭐⭐⭐/5: NOMINATED FOR FILMAFARE: KAL HO NA HO\n",
      "⭐⭐⭐⭐/5: NOMINATED FOR FILMAFARE: KOI MIL GAYA\n",
      "⭐⭐⭐⭐/5: NOMINATED FOR FILMAFARE: BAGHBAAN\n",
      "⭐⭐⭐⭐/5: NOMINATED FOR FILMAFARE: VEER-ZARA\n"
     ]
    }
   ],
   "source": [
    "a,b,c,d,e='LAGAAN','KAL HO NA HO','KOI MIL GAYA','BAGHBAAN','VEER-ZARA'\n",
    "print(f'⭐⭐⭐⭐/5: NOMINATED FOR FILMAFARE: {a}')\n",
    "print(f'⭐⭐⭐⭐⭐/5: NOMINATED FOR FILMAFARE: {b}')\n",
    "print(f'⭐⭐⭐⭐/5: NOMINATED FOR FILMAFARE: {c}')\n",
    "print(f'⭐⭐⭐⭐/5: NOMINATED FOR FILMAFARE: {d}')\n",
    "print(f'⭐⭐⭐⭐/5: NOMINATED FOR FILMAFARE: {e}')"
   ]
  },
  {
   "cell_type": "code",
   "execution_count": 1,
   "metadata": {},
   "outputs": [
    {
     "name": "stdout",
     "output_type": "stream",
     "text": [
      "ITS A PALINDROMIC NUMBER\n"
     ]
    }
   ],
   "source": [
    "num=int(input('Enter a Value'))\n",
    "op=num\n",
    "rev=0\n",
    "while(num>0):\n",
    "    rev=rev*10+num%10\n",
    "    num=num//10\n",
    "\n",
    "if rev==op:\n",
    " print(\"ITS A PALINDROMIC NUMBER\")\n",
    "\n",
    "    \n",
    "else:\n",
    " print('NOT A PALINDROMIC')\n",
    "\n",
    "    \n"
   ]
  },
  {
   "cell_type": "code",
   "execution_count": 4,
   "metadata": {},
   "outputs": [
    {
     "name": "stdout",
     "output_type": "stream",
     "text": [
      "Happy enironment day: 5/June/2024🌍\n"
     ]
    }
   ],
   "source": [
    "carbon_emission=int(input(\"Enter The Emission Volume\"))\n",
    "if carbon_emission>10**6:\n",
    "    c_tax=carbon_emission*0.6\n",
    "    print(c_tax, '⚠️ Danger on Environment Sustainability')\n",
    "    print()\n",
    "elif carbon_emission<10**6 and carbon_emission>=10**3:\n",
    "    c_tax=carbon_emission*0.2\n",
    "    print(c_tax,\"Transitioning towards critical stage\")\n",
    "elif carbon_emission<10**3 and carbon_emission>=10**1:\n",
    "    print(\"Plant More trees🌳🌳🌳\")\n",
    "else:\n",
    "    print(\"Happy enironment day: 5/June/2024🌍\")\n",
    "    "
   ]
  },
  {
   "cell_type": "code",
   "execution_count": 12,
   "metadata": {},
   "outputs": [],
   "source": []
  },
  {
   "cell_type": "code",
   "execution_count": 8,
   "metadata": {},
   "outputs": [
    {
     "name": "stdout",
     "output_type": "stream",
     "text": [
      "dgpdm\n"
     ]
    }
   ],
   "source": [
    "sen=input(\"Enter the String\")\n",
    "s=''\n",
    "for i in sen[0:len(sen)]:\n",
    "    if i=='a' or  i=='e' or i=='i' or i=='o' or i=='u':\n",
    "        continue\n",
    "    s=s+i\n",
    "print(s)\n",
    "    "
   ]
  },
  {
   "cell_type": "code",
   "execution_count": 1,
   "metadata": {},
   "outputs": [
    {
     "name": "stdout",
     "output_type": "stream",
     "text": [
      "honesty is the best policy\n"
     ]
    }
   ],
   "source": [
    "string=\"honesty is the best policy\"\n",
    "print(string)"
   ]
  },
  {
   "cell_type": "code",
   "execution_count": 2,
   "metadata": {},
   "outputs": [
    {
     "name": "stdout",
     "output_type": "stream",
     "text": [
      "19\n"
     ]
    }
   ],
   "source": [
    "data=input(\"Enter the string\")\n",
    "print(len(data))"
   ]
  },
  {
   "cell_type": "code",
   "execution_count": 45,
   "metadata": {},
   "outputs": [
    {
     "name": "stdout",
     "output_type": "stream",
     "text": [
      "great\n"
     ]
    }
   ],
   "source": [
    "data1=\"Python is great\"\n",
    "print(data1[-5:])"
   ]
  },
  {
   "cell_type": "code",
   "execution_count": 29,
   "metadata": {},
   "outputs": [
    {
     "name": "stdout",
     "output_type": "stream",
     "text": [
      "python\n",
      "is\n",
      "everywhere\n"
     ]
    }
   ],
   "source": [
    "data='python is everywhere'\n",
    "new = data.split(\" \")\n",
    "print(new[0])\n",
    "print(new[1])\n",
    "print(new[2])\n"
   ]
  },
  {
   "cell_type": "code",
   "execution_count": 43,
   "metadata": {},
   "outputs": [
    {
     "name": "stdout",
     "output_type": "stream",
     "text": [
      "!dlroW olleH\n"
     ]
    }
   ],
   "source": [
    "str=\"Hello World!\"\n",
    "print(str[:12][::-1])"
   ]
  },
  {
   "cell_type": "code",
   "execution_count": 44,
   "metadata": {},
   "outputs": [
    {
     "name": "stdout",
     "output_type": "stream",
     "text": [
      "HOW ARE YOU?\n"
     ]
    }
   ],
   "source": [
    "upp=\"How are you?\"\n",
    "print(upp.upper())"
   ]
  },
  {
   "cell_type": "code",
   "execution_count": 46,
   "metadata": {},
   "outputs": [
    {
     "name": "stdout",
     "output_type": "stream",
     "text": [
      "how is it going?\n"
     ]
    }
   ],
   "source": [
    "low=\"How Is It Going?\"\n",
    "print(low.lower())"
   ]
  },
  {
   "cell_type": "code",
   "execution_count": 47,
   "metadata": {},
   "outputs": [
    {
     "data": {
      "text/plain": [
       "'Python is easy to learn'"
      ]
     },
     "execution_count": 47,
     "metadata": {},
     "output_type": "execute_result"
    }
   ],
   "source": [
    "word=['Python','is','easy','to','learn']\n",
    "' '.join(word)"
   ]
  },
  {
   "cell_type": "code",
   "execution_count": 48,
   "metadata": {},
   "outputs": [
    {
     "name": "stdout",
     "output_type": "stream",
     "text": [
      "to move o newline '\\n'is used\n",
      "to move o newline '\\\\n'is used\n"
     ]
    }
   ],
   "source": [
    "print(\"to move o newline '\\\\n'is used\")\n",
    "print(r\"to move o newline '\\\\n'is used\")"
   ]
  }
 ],
 "metadata": {
  "kernelspec": {
   "display_name": "Python 3",
   "language": "python",
   "name": "python3"
  },
  "language_info": {
   "codemirror_mode": {
    "name": "ipython",
    "version": 3
   },
   "file_extension": ".py",
   "mimetype": "text/x-python",
   "name": "python",
   "nbconvert_exporter": "python",
   "pygments_lexer": "ipython3",
   "version": "3.12.3"
  }
 },
 "nbformat": 4,
 "nbformat_minor": 2
}
