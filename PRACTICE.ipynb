{
 "cells": [
  {
   "cell_type": "code",
   "execution_count": 2,
   "metadata": {},
   "outputs": [
    {
     "name": "stdout",
     "output_type": "stream",
     "text": [
      "57500.0\n"
     ]
    }
   ],
   "source": [
    "bs=50000\n",
    "hra=bs*(5/100)\n",
    "da=bs*(10/100)\n",
    "gross=bs+hra+da\n",
    "print(gross)"
   ]
  },
  {
   "cell_type": "code",
   "execution_count": 1,
   "metadata": {},
   "outputs": [
    {
     "name": "stdout",
     "output_type": "stream",
     "text": [
      "314.2857142857143\n"
     ]
    }
   ],
   "source": [
    "r=10\n",
    "a=22/7*10*10\n",
    "print(a)"
   ]
  },
  {
   "cell_type": "code",
   "execution_count": 3,
   "metadata": {},
   "outputs": [
    {
     "name": "stdout",
     "output_type": "stream",
     "text": [
      "0\n",
      "1\n",
      "1\n",
      "2\n",
      "3\n",
      "5\n",
      "8\n",
      "13\n",
      "21\n"
     ]
    }
   ],
   "source": [
    "num=int(input(\"ENTER THE VALUE :\"))\n",
    "x=0\n",
    "y=1\n",
    "z=0\n",
    "while(z<=num):\n",
    "    print(z)\n",
    "    x=y\n",
    "    y=z\n",
    "    z=x+y\n",
    "    \n"
   ]
  },
  {
   "cell_type": "code",
   "execution_count": 1,
   "metadata": {},
   "outputs": [
    {
     "name": "stdout",
     "output_type": "stream",
     "text": [
      "⭐⭐⭐⭐/5: NOMINATED FOR FILMAFARE: LAGAAN\n",
      "⭐⭐⭐⭐⭐/5: NOMINATED FOR FILMAFARE: KAL HO NA HO\n",
      "⭐⭐⭐⭐/5: NOMINATED FOR FILMAFARE: KOI MIL GAYA\n",
      "⭐⭐⭐⭐/5: NOMINATED FOR FILMAFARE: BAGHBAAN\n",
      "⭐⭐⭐⭐/5: NOMINATED FOR FILMAFARE: VEER-ZARA\n"
     ]
    }
   ],
   "source": [
    "a,b,c,d,e='LAGAAN','KAL HO NA HO','KOI MIL GAYA','BAGHBAAN','VEER-ZARA'\n",
    "print(f'⭐⭐⭐⭐/5: NOMINATED FOR FILMAFARE: {a}')\n",
    "print(f'⭐⭐⭐⭐⭐/5: NOMINATED FOR FILMAFARE: {b}')\n",
    "print(f'⭐⭐⭐⭐/5: NOMINATED FOR FILMAFARE: {c}')\n",
    "print(f'⭐⭐⭐⭐/5: NOMINATED FOR FILMAFARE: {d}')\n",
    "print(f'⭐⭐⭐⭐/5: NOMINATED FOR FILMAFARE: {e}')"
   ]
  }
 ],
 "metadata": {
  "kernelspec": {
   "display_name": "Python 3",
   "language": "python",
   "name": "python3"
  },
  "language_info": {
   "codemirror_mode": {
    "name": "ipython",
    "version": 3
   },
   "file_extension": ".py",
   "mimetype": "text/x-python",
   "name": "python",
   "nbconvert_exporter": "python",
   "pygments_lexer": "ipython3",
   "version": "3.12.3"
  }
 },
 "nbformat": 4,
 "nbformat_minor": 2
}
