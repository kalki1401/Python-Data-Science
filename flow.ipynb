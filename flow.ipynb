{
 "cells": [
  {
   "cell_type": "markdown",
   "metadata": {},
   "source": [
    "Programming Flow-\n",
    "- Conditional flow\n",
    " - if\n",
    " - if else\n",
    " - if elif else\n",
    " - match case\n",
    "\n",
    "- iteartive flow\n",
    " - for loop\n",
    " - while loop"
   ]
  },
  {
   "cell_type": "code",
   "execution_count": 4,
   "metadata": {},
   "outputs": [
    {
     "name": "stdout",
     "output_type": "stream",
     "text": [
      "INVALID!!\n"
     ]
    }
   ],
   "source": [
    "x='Hell'\n",
    "if len(x)>=5:\n",
    "    print(\"HELLO WORLD\")\n",
    "else:\n",
    "    print(\"INVALID!!\")"
   ]
  },
  {
   "cell_type": "code",
   "execution_count": 11,
   "metadata": {},
   "outputs": [
    {
     "name": "stdout",
     "output_type": "stream",
     "text": [
      "a*2 is greater than 100\n",
      "a+50 is greater than 150\n"
     ]
    }
   ],
   "source": [
    "a=int(input(\"Enter a number\"))\n",
    "if a*2>100:\n",
    "    print('a*2 is greater than 100')\n",
    "if a+50>150:\n",
    "    print('a+50 is greater than 150')"
   ]
  },
  {
   "cell_type": "code",
   "execution_count": 15,
   "metadata": {},
   "outputs": [
    {
     "name": "stdout",
     "output_type": "stream",
     "text": [
      "ODD\n"
     ]
    }
   ],
   "source": [
    "k=int(input(\"Enter a number\"))\n",
    "if k%2==0:\n",
    "    print(\"EVEN\")\n",
    "else:\n",
    "    print(\"ODD\")"
   ]
  },
  {
   "cell_type": "code",
   "execution_count": 17,
   "metadata": {},
   "outputs": [
    {
     "name": "stdout",
     "output_type": "stream",
     "text": [
      "15886.5\n"
     ]
    }
   ],
   "source": [
    "s=int(input(\"Enter total sallary\"))\n",
    "hra=s*5/100\n",
    "da=s*3.3/100\n",
    "ta=s*2.61/100\n",
    "# tsa=s+hra+da+ta\n",
    "if(hra<1000):\n",
    "     tsa=s+da+ta\n",
    "     print(tsa)\n",
    "else:\n",
    "     tsa=s+hra+da+ta\n",
    "     print(tsa)\n"
   ]
  }
 ],
 "metadata": {
  "kernelspec": {
   "display_name": "Python 3",
   "language": "python",
   "name": "python3"
  },
  "language_info": {
   "codemirror_mode": {
    "name": "ipython",
    "version": 3
   },
   "file_extension": ".py",
   "mimetype": "text/x-python",
   "name": "python",
   "nbconvert_exporter": "python",
   "pygments_lexer": "ipython3",
   "version": "3.12.3"
  }
 },
 "nbformat": 4,
 "nbformat_minor": 2
}
