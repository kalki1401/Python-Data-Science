{
 "cells": [
  {
   "cell_type": "code",
   "execution_count": 7,
   "metadata": {},
   "outputs": [
    {
     "name": "stdout",
     "output_type": "stream",
     "text": [
      "['chacha', 'dada', 'mama', 'nana', 'papa']\n"
     ]
    }
   ],
   "source": [
    "# Write a program that creates a list of strings and then sorts the list alphabetically. Print the sorted list.\n",
    "lst1=[]\n",
    "for i in range(5):\n",
    "    lst=input(\"Enter the related strings\")\n",
    "    lst1.append(lst)\n",
    "\n",
    "lst1.sort()\n",
    "print(lst1)"
   ]
  },
  {
   "cell_type": "code",
   "execution_count": 9,
   "metadata": {},
   "outputs": [
    {
     "name": "stdout",
     "output_type": "stream",
     "text": [
      "[255, 86, 83, 65, 57, 46, 42, 37, 37, 25]\n"
     ]
    }
   ],
   "source": [
    "# Write a program that creates a list of integers and then finds the maximum value in the list. Print the maximum value\n",
    "st1=[]\n",
    "for i in range(10):\n",
    "    st=int(input(\"Enter the values\"))\n",
    "    st1.append(st)\n",
    "st1.sort(reverse=True)\n",
    "print(st1)"
   ]
  },
  {
   "cell_type": "code",
   "execution_count": 24,
   "metadata": {},
   "outputs": [
    {
     "name": "stdout",
     "output_type": "stream",
     "text": [
      "[2, 4, 6, 8, 10]\n"
     ]
    }
   ],
   "source": [
    "# Write a program that creates two lists of integers and then finds the common elements between those two lists. Print the common elements.\n",
    "\n",
    "chk1=[]\n",
    "chk2=[]\n",
    "for i in range(10):\n",
    "    el=int(input(\"enter the values for chk1\"))\n",
    "    chk1.append(el)\n",
    "for j in range(10):\n",
    "    fl=int(input(\"enter the values for chk2\"))\n",
    "    chk2.append(fl)\n",
    "c_elemnt=set(chk1) &  set(chk2)\n",
    "print(list(c_elemnt))\n",
    "    "
   ]
  },
  {
   "cell_type": "code",
   "execution_count": 30,
   "metadata": {},
   "outputs": [
    {
     "name": "stdout",
     "output_type": "stream",
     "text": [
      "21\n"
     ]
    }
   ],
   "source": [
    "# Write a program that creates a nested list and then accesses a specific element in the list. Print the accessed element.\n",
    "lst=[[12,32],[45,21],[55,87],[87,60]]\n",
    "print(lst[1][1])"
   ]
  },
  {
   "cell_type": "code",
   "execution_count": 2,
   "metadata": {},
   "outputs": [
    {
     "name": "stdout",
     "output_type": "stream",
     "text": [
      "789\n"
     ]
    }
   ],
   "source": [
    "# Write a program that creates a list of integers and then finds the maximum value in the list. Print the maximum value.\n",
    "check=[]\n",
    "for i in range(10):\n",
    "    lstt=int(input(\"enter the values\"))\n",
    "    check.append(lstt)\n",
    "    check.sort(reverse=True)\n",
    "    \n",
    "print(check[0])\n"
   ]
  },
  {
   "cell_type": "code",
   "execution_count": 7,
   "metadata": {},
   "outputs": [
    {
     "name": "stdout",
     "output_type": "stream",
     "text": [
      "['kushagara', 'david', 'muskan', 'rishita', 'maya']\n",
      "['david', 'rishita', 'maya']\n"
     ]
    }
   ],
   "source": [
    "# Write a program that creates a list of strings and then removes all elements that contain a specific substring. Print the final list.\n",
    "rem_str=input(\"Enter the Removal substr\")\n",
    "strx=[]\n",
    "for i in range(5):\n",
    "    str=input(\"Enter the following string\")\n",
    "    strx.append(str)\n",
    "print(strx)\n",
    "flt_lst=[i for i in strx if rem_str  not in i]\n",
    "print(flt_lst)\n",
    "\n",
    "    \n"
   ]
  },
  {
   "cell_type": "code",
   "execution_count": 11,
   "metadata": {},
   "outputs": [
    {
     "name": "stdout",
     "output_type": "stream",
     "text": [
      " the duplicate list is: [2, 2, 5, 6, 2, 7, 8, 7, 5, 9]\n",
      " the filtered list is:[2, 5, 6, 7, 8, 9]\n"
     ]
    }
   ],
   "source": [
    "# Write a program that creates a list of integers and then removes all duplicates from the list. Print the final list.\n",
    "dupl_lst=[]\n",
    "for i in range(10):\n",
    "    lst=int(input(\"Enter the integers\"))\n",
    "    dupl_lst.append(lst)\n",
    "print(f' the duplicate list is: {dupl_lst}')\n",
    "print(f' the filtered list is:{list(set(dupl_lst))}')"
   ]
  },
  {
   "cell_type": "code",
   "execution_count": 19,
   "metadata": {},
   "outputs": [
    {
     "name": "stdout",
     "output_type": "stream",
     "text": [
      "the inputted strings:➡️ ['Malthusian theory', 'Binomial Noman Cluther', 'Thiruvanthanampuram', 'Beyond the Matrix', 'Homosapiens Sapiens']\n",
      "the longest string:➡️ Binomial Noman Cluther\n"
     ]
    }
   ],
   "source": [
    "# Write a program that creates a list of strings and then finds the longest string in the list. Print the longest string.\n",
    "str1=[]\n",
    "for i in range(5):\n",
    "   str2=input(\"enter the strings\")\n",
    "   str1.append(str2)\n",
    "print(f'the inputted strings:➡️ {str1}')\n",
    "max=str1[0]\n",
    "for j in str1:\n",
    "    if len(j)>len(max):\n",
    "     max=j\n",
    "        \n",
    "print(f'the longest string:➡️ {max}')"
   ]
  },
  {
   "cell_type": "code",
   "execution_count": 26,
   "metadata": {},
   "outputs": [
    {
     "name": "stdout",
     "output_type": "stream",
     "text": [
      "[8888, 7896, 14569, 78369, 12359, 78888, 81456, 789630, 3333, 21401]\n",
      "[8888, 7896, 14569, 78369, 12359, 78888, 81456, 789630, 3333, 21401]\n",
      "966758\n"
     ]
    }
   ],
   "source": [
    "# Write a program that creates a list of integers and then finds the sum of all the even numbers in the list. Print the sum.\n",
    "l1=[]\n",
    "sum=0\n",
    "for i in range(10):\n",
    "    l2=int(input(\"Enter the Integers\"))\n",
    "    l1.append(l2)\n",
    "print(l1)\n",
    "for j in l1:\n",
    "    if j%2==0:\n",
    "     sum=sum+j\n",
    "print(l1)\n",
    "print(sum)"
   ]
  },
  {
   "cell_type": "code",
   "execution_count": 37,
   "metadata": {},
   "outputs": [
    {
     "name": "stdout",
     "output_type": "stream",
     "text": [
      "the range of values:➡️ [98, 45, 78, 123, 65]\n",
      "position of removal:➡️-3\n",
      "the filtered range is:➡️ [98, 45, 123, 65]\n"
     ]
    }
   ],
   "source": [
    "# Write a program that creates a list of integers and then asks the user to input a position to remove an element from the list. Print the final list.\n",
    "num=[]\n",
    "pos=int(input(\"Enter the value\"))\n",
    "for i in range (5):\n",
    "    n=int(input(\"Enter the integers\"))\n",
    "    num.append(n)\n",
    "print(f'the range of values:➡️ {num}')\n",
    "print(f'position of removal:➡️{pos}')\n",
    "num.pop(pos)\n",
    "print(f'the filtered range is:➡️ {num}')\n",
    "\n",
    "\n",
    "\n"
   ]
  }
 ],
 "metadata": {
  "kernelspec": {
   "display_name": "Python 3",
   "language": "python",
   "name": "python3"
  },
  "language_info": {
   "codemirror_mode": {
    "name": "ipython",
    "version": 3
   },
   "file_extension": ".py",
   "mimetype": "text/x-python",
   "name": "python",
   "nbconvert_exporter": "python",
   "pygments_lexer": "ipython3",
   "version": "3.12.3"
  }
 },
 "nbformat": 4,
 "nbformat_minor": 2
}
