{
 "cells": [
  {
   "cell_type": "markdown",
   "metadata": {},
   "source": [
    "    <<-----STRING----->>\n",
    "    -creating\n",
    "    -indexing and Slicing\n",
    "    -method\n",
    "    -tip an tricks\n"
   ]
  },
  {
   "cell_type": "code",
   "execution_count": 1,
   "metadata": {},
   "outputs": [],
   "source": [
    "a='''this is the very \n",
    "usefl method for print in\n",
    "multiline strings'''"
   ]
  },
  {
   "cell_type": "code",
   "execution_count": 3,
   "metadata": {},
   "outputs": [
    {
     "name": "stdout",
     "output_type": "stream",
     "text": [
      "this is the very \n",
      "usefl method for print in\n",
      "multiline strings is a fruit\n",
      "hello\n",
      "b'hello'\n"
     ]
    }
   ],
   "source": [
    "# types of string\n",
    "x=f'{a} is a fruit'\n",
    "print(x)\n",
    "# raw sring\n",
    "add=r'c:\\user\\kushagra\\desktop' \n",
    "# raw>>special character behaves normally\n",
    "# unicode string\n",
    "uni=u'hello'\n",
    "print(uni)\n",
    "# byte string>> Stream of Data from the Internet(voice files,video,images..etc)\n",
    "byt=b'hello'\n",
    "print(byt)"
   ]
  },
  {
   "cell_type": "code",
   "execution_count": 8,
   "metadata": {},
   "outputs": [
    {
     "name": "stdout",
     "output_type": "stream",
     "text": [
      "e\n",
      "o\n",
      "a\n",
      "a\n",
      "e\n"
     ]
    }
   ],
   "source": [
    "v='encyclopedia'\n",
    "print(v[0]) #Ist Index\n",
    "print(v[6]) #6st Index\n",
    "print(v[11]) #last Index\n",
    "print(v[-1]) #negative indexing\n",
    "print(v[-12])#neagtive indexing\n"
   ]
  }
 ],
 "metadata": {
  "kernelspec": {
   "display_name": "Python 3",
   "language": "python",
   "name": "python3"
  },
  "language_info": {
   "codemirror_mode": {
    "name": "ipython",
    "version": 3
   },
   "file_extension": ".py",
   "mimetype": "text/x-python",
   "name": "python",
   "nbconvert_exporter": "python",
   "pygments_lexer": "ipython3",
   "version": "3.12.3"
  }
 },
 "nbformat": 4,
 "nbformat_minor": 2
}
