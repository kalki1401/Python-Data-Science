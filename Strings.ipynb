{
 "cells": [
  {
   "cell_type": "markdown",
   "metadata": {},
   "source": [
    "    <<-----STRING----->>\n",
    "    -creating\n",
    "    -indexing and Slicing\n",
    "    -method\n",
    "    -tip an tricks\n"
   ]
  },
  {
   "cell_type": "code",
   "execution_count": 1,
   "metadata": {},
   "outputs": [],
   "source": [
    "a='''this is the very \n",
    "usefl method for print in\n",
    "multiline strings'''"
   ]
  },
  {
   "cell_type": "code",
   "execution_count": 3,
   "metadata": {},
   "outputs": [
    {
     "name": "stdout",
     "output_type": "stream",
     "text": [
      "this is the very \n",
      "usefl method for print in\n",
      "multiline strings is a fruit\n",
      "hello\n",
      "b'hello'\n"
     ]
    }
   ],
   "source": [
    "# types of string\n",
    "x=f'{a} is a fruit'\n",
    "print(x)\n",
    "# raw sring\n",
    "add=r'c:\\user\\kushagra\\desktop' \n",
    "# raw>>special character behaves normally\n",
    "# unicode string\n",
    "uni=u'hello'\n",
    "print(uni)\n",
    "# byte string>> Stream of Data from the Internet(voice files,video,images..etc)\n",
    "byt=b'hello'\n",
    "print(byt)"
   ]
  },
  {
   "cell_type": "code",
   "execution_count": 8,
   "metadata": {},
   "outputs": [
    {
     "name": "stdout",
     "output_type": "stream",
     "text": [
      "e\n",
      "o\n",
      "a\n",
      "a\n",
      "e\n"
     ]
    }
   ],
   "source": [
    "v='encyclopedia'\n",
    "print(v[0]) #Ist Index\n",
    "print(v[6]) #6st Index\n",
    "print(v[11]) #last Index\n",
    "print(v[-1]) #negative indexing\n",
    "print(v[-12])#neagtive indexing\n"
   ]
  },
  {
   "cell_type": "code",
   "execution_count": null,
   "metadata": {},
   "outputs": [],
   "source": [
    "# SLICING in PYTHON\n",
    "\n",
    "#syntax: x[start:stop]"
   ]
  },
  {
   "cell_type": "code",
   "execution_count": 7,
   "metadata": {},
   "outputs": [
    {
     "name": "stdout",
     "output_type": "stream",
     "text": [
      "vant\n"
     ]
    }
   ],
   "source": [
    "a=\"thiruvanthanampuram\"\n",
    "print(a[5:9])"
   ]
  },
  {
   "cell_type": "code",
   "execution_count": 36,
   "metadata": {},
   "outputs": [
    {
     "name": "stdout",
     "output_type": "stream",
     "text": [
      "Vijay\n",
      "Deenanath\n",
      "chauhan\n"
     ]
    },
    {
     "data": {
      "text/plain": [
       "'htananeeD'"
      ]
     },
     "execution_count": 36,
     "metadata": {},
     "output_type": "execute_result"
    }
   ],
   "source": [
    "name=\"Vijay Deenanath chauhan\"\n",
    "fn=name[:5]\n",
    "mn=name[6:15]\n",
    "ln=name[16:]\n",
    "print(fn)\n",
    "print(mn)\n",
    "print(ln)\n",
    "name[6:15][::-1]"
   ]
  },
  {
   "cell_type": "code",
   "execution_count": 6,
   "metadata": {},
   "outputs": [
    {
     "name": "stdout",
     "output_type": "stream",
     "text": [
      "chauhan\n"
     ]
    }
   ],
   "source": [
    "name=\"Vijay Deenanath chauhan\"\n",
    "print(name[16:])"
   ]
  },
  {
   "cell_type": "code",
   "execution_count": 33,
   "metadata": {},
   "outputs": [
    {
     "data": {
      "text/plain": [
       "'ime in mumbai'"
      ]
     },
     "execution_count": 33,
     "metadata": {},
     "output_type": "execute_result"
    }
   ],
   "source": [
    "msg='once upoun a time in mumbai'\n",
    "msg[-11:]\n",
    "msg[14:]"
   ]
  },
  {
   "cell_type": "code",
   "execution_count": 24,
   "metadata": {},
   "outputs": [
    {
     "name": "stdout",
     "output_type": "stream",
     "text": [
      "890000\n"
     ]
    }
   ],
   "source": [
    "amt='$890000'\n",
    "amt=int(amt[1:])\n",
    "print(amt)\n",
    "    "
   ]
  },
  {
   "cell_type": "code",
   "execution_count": 28,
   "metadata": {},
   "outputs": [
    {
     "data": {
      "text/plain": [
       "'ne pu  iei ubi'"
      ]
     },
     "execution_count": 28,
     "metadata": {},
     "output_type": "execute_result"
    }
   ],
   "source": [
    "msg='once  upoun a time in mumbai'\n",
    "msg[::2] #even indexes\n",
    "msg[1::2] #odd indexes\n"
   ]
  },
  {
   "cell_type": "code",
   "execution_count": 31,
   "metadata": {},
   "outputs": [
    {
     "data": {
      "text/plain": [
       "'iabmum ni emit a nuopu  ecno'"
      ]
     },
     "execution_count": 31,
     "metadata": {},
     "output_type": "execute_result"
    }
   ],
   "source": [
    "#String Reversing\n",
    "msg[::-1]"
   ]
  },
  {
   "cell_type": "code",
   "execution_count": 32,
   "metadata": {},
   "outputs": [
    {
     "data": {
      "text/plain": [
       "'iabmu'"
      ]
     },
     "execution_count": 32,
     "metadata": {},
     "output_type": "execute_result"
    }
   ],
   "source": [
    "msg[::-1][:5]"
   ]
  },
  {
   "cell_type": "markdown",
   "metadata": {},
   "source": [
    "#String Methods\n",
    "-Formating\n",
    "-Validation\n",
    "-find & replace\n",
    "_etc."
   ]
  },
  {
   "cell_type": "code",
   "execution_count": 41,
   "metadata": {},
   "outputs": [
    {
     "name": "stdout",
     "output_type": "stream",
     "text": [
      "ALL THE GLITTER IS NOT GOLD⭐\n",
      "all the glitter is not gold⭐\n",
      "All the glitter is not gold⭐\n",
      "All The Glitter Is Not Gold⭐\n",
      "all the glitter is not gold⭐\n"
     ]
    }
   ],
   "source": [
    "quote=\"all the glitter is not gold⭐\"\n",
    "quote_upper=quote.upper()\n",
    "print(quote_upper)\n",
    "quote_lower=quote.lower()\n",
    "print(quote_lower)\n",
    "print(quote.capitalize())\n",
    "print(quote.title())\n",
    "print(quote.casefold())"
   ]
  },
  {
   "cell_type": "code",
   "execution_count": 50,
   "metadata": {},
   "outputs": [
    {
     "data": {
      "text/plain": [
       "'🐉🐉🐉🐉🐉🐉🐉🐉🐉🐉🐉all the glitter is not gold⭐🐉🐉🐉🐉🐉🐉🐉🐉🐉🐉🐉'"
      ]
     },
     "execution_count": 50,
     "metadata": {},
     "output_type": "execute_result"
    }
   ],
   "source": [
    "quote.ljust(50)\n",
    "quote.center(50,'🐉')"
   ]
  },
  {
   "cell_type": "code",
   "execution_count": 52,
   "metadata": {},
   "outputs": [
    {
     "name": "stdout",
     "output_type": "stream",
     "text": [
      "Valid name\n"
     ]
    }
   ],
   "source": [
    "#Validation>> isFunction()--->returns T/F\n",
    "fname=input(\"Enter your Name\")\n",
    "if fname.isalpha():\n",
    "    print(\"Valid name\")\n",
    "else:\n",
    "    print(\"🚷\")"
   ]
  },
  {
   "cell_type": "code",
   "execution_count": 54,
   "metadata": {},
   "outputs": [
    {
     "data": {
      "text/plain": [
       "21"
      ]
     },
     "execution_count": 54,
     "metadata": {},
     "output_type": "execute_result"
    }
   ],
   "source": [
    "#find and index method for searching in string(case sensitive)\n",
    "msg.find('mumbai')"
   ]
  },
  {
   "cell_type": "code",
   "execution_count": 61,
   "metadata": {},
   "outputs": [
    {
     "name": "stdout",
     "output_type": "stream",
     "text": [
      "79\n",
      "140\n",
      "170\n",
      "-1\n"
     ]
    },
    {
     "ename": "ValueError",
     "evalue": "substring not found",
     "output_type": "error",
     "traceback": [
      "\u001b[1;31m---------------------------------------------------------------------------\u001b[0m",
      "\u001b[1;31mValueError\u001b[0m                                Traceback (most recent call last)",
      "Cell \u001b[1;32mIn[61], line 9\u001b[0m\n\u001b[0;32m      7\u001b[0m \u001b[38;5;28mprint\u001b[39m(data\u001b[38;5;241m.\u001b[39mfind(\u001b[38;5;124m'\u001b[39m\u001b[38;5;124mpopulation\u001b[39m\u001b[38;5;124m'\u001b[39m,\u001b[38;5;241m141\u001b[39m))\n\u001b[0;32m      8\u001b[0m \u001b[38;5;28mprint\u001b[39m(data\u001b[38;5;241m.\u001b[39mfind(\u001b[38;5;124m'\u001b[39m\u001b[38;5;124mPopulation\u001b[39m\u001b[38;5;124m'\u001b[39m))\n\u001b[1;32m----> 9\u001b[0m \u001b[38;5;28mprint\u001b[39m(\u001b[43mdata\u001b[49m\u001b[38;5;241;43m.\u001b[39;49m\u001b[43mindex\u001b[49m\u001b[43m(\u001b[49m\u001b[38;5;124;43m'\u001b[39;49m\u001b[38;5;124;43mPopulation\u001b[39;49m\u001b[38;5;124;43m'\u001b[39;49m\u001b[43m)\u001b[49m)\n",
      "\u001b[1;31mValueError\u001b[0m: substring not found"
     ]
    }
   ],
   "source": [
    "data='''India is one of the largest democracy in the world, \n",
    "accounting about 140crore population,\n",
    "this poppulation can be classified in to working population and the\n",
    "unemployed population'''\n",
    "print(data.find('population'))\n",
    "print(data.find('population',80))\n",
    "print(data.find('population',141))\n",
    "print(data.find('Population'))\n",
    "print(data.index('Population'))\n",
    "#find() is better than Index()\n"
   ]
  },
  {
   "cell_type": "code",
   "execution_count": 2,
   "metadata": {},
   "outputs": [
    {
     "name": "stdout",
     "output_type": "stream",
     "text": [
      "170\n"
     ]
    }
   ],
   "source": [
    "#reversefind\n",
    "\n",
    "print(data.rfind('population'))"
   ]
  },
  {
   "cell_type": "code",
   "execution_count": 3,
   "metadata": {},
   "outputs": [
    {
     "name": "stdout",
     "output_type": "stream",
     "text": [
      "India is one of the largest democracy in the world, \n",
      "accounting about 140crore 🧑‍🤝‍🧑,\n",
      "this poppulation can be classified in to working 🧑‍🤝‍🧑 and the\n",
      "unemployed 🧑‍🤝‍🧑\n"
     ]
    }
   ],
   "source": [
    "# replace method\n",
    "data='''India is one of the largest democracy in the world, \n",
    "accounting about 140crore population,\n",
    "this poppulation can be classified in to working population and the\n",
    "unemployed population'''\n",
    "print(data.replace('population','🧑‍🤝‍🧑'))\n",
    "# data.replace('i','e').replace('a','z').replace('r','g').replace('f','m')"
   ]
  },
  {
   "cell_type": "code",
   "execution_count": 70,
   "metadata": {},
   "outputs": [
    {
     "name": "stdout",
     "output_type": "stream",
     "text": [
      "India_is_one_of_the largest democracy in the world, \n",
      "accounting about 140crore population,\n",
      "this poppulation can be classified in to working population and the\n",
      "unemployed population\n"
     ]
    }
   ],
   "source": [
    "print(data.replace(' ','_',4)) \n",
    "# 4>> No. of Splits"
   ]
  }
 ],
 "metadata": {
  "kernelspec": {
   "display_name": "Python 3",
   "language": "python",
   "name": "python3"
  },
  "language_info": {
   "codemirror_mode": {
    "name": "ipython",
    "version": 3
   },
   "file_extension": ".py",
   "mimetype": "text/x-python",
   "name": "python",
   "nbconvert_exporter": "python",
   "pygments_lexer": "ipython3",
   "version": "3.12.3"
  }
 },
 "nbformat": 4,
 "nbformat_minor": 2
}
