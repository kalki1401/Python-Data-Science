{
 "cells": [
  {
   "cell_type": "code",
   "execution_count": 2,
   "metadata": {},
   "outputs": [
    {
     "name": "stdout",
     "output_type": "stream",
     "text": [
      "Requirement already satisfied: numpy in c:\\users\\dell\\appdata\\local\\programs\\python\\python312\\lib\\site-packages (2.0.0)\n",
      "Note: you may need to restart the kernel to use updated packages.\n"
     ]
    }
   ],
   "source": [
    "pip install numpy"
   ]
  },
  {
   "cell_type": "code",
   "execution_count": 2,
   "metadata": {},
   "outputs": [],
   "source": [
    "import numpy as np"
   ]
  },
  {
   "cell_type": "code",
   "execution_count": 5,
   "metadata": {},
   "outputs": [
    {
     "name": "stdout",
     "output_type": "stream",
     "text": [
      "[1 2 3 4 5] [ 6  7  8  9 10]\n",
      "<class 'numpy.ndarray'>\n",
      "<class 'numpy.ndarray'>\n"
     ]
    }
   ],
   "source": [
    "#create 1d array\n",
    "a=np.array([1,2,3,4,5])\n",
    "b=np.array([6,7,8,9,10])\n",
    "print(a,b)\n",
    "print(type(a))\n",
    "print(type(b)) #nd>> n-dimensional array"
   ]
  },
  {
   "cell_type": "code",
   "execution_count": 10,
   "metadata": {},
   "outputs": [
    {
     "name": "stdout",
     "output_type": "stream",
     "text": [
      "[ 7  9 11 13 15]\n",
      "[ 6 14 24 36 50]\n",
      "[-5 -5 -5 -5 -5]\n"
     ]
    }
   ],
   "source": [
    "print(a+b)\n",
    "print(a*b)\n",
    "print(a-b)\n"
   ]
  },
  {
   "cell_type": "code",
   "execution_count": 17,
   "metadata": {},
   "outputs": [
    {
     "name": "stdout",
     "output_type": "stream",
     "text": [
      "[[1 2]\n",
      " [2 3]\n",
      " [3 4]]\n"
     ]
    }
   ],
   "source": [
    "#2d matrix\n",
    "n2=np.array([[1,2],[2,3],[3,4]])\n",
    "print(n2)\n"
   ]
  },
  {
   "cell_type": "code",
   "execution_count": 12,
   "metadata": {},
   "outputs": [
    {
     "name": "stdout",
     "output_type": "stream",
     "text": [
      "2\n"
     ]
    }
   ],
   "source": [
    "k=np.array([[2,5,7],[1,8,9],[7,15,32]])\n",
    "print(k.ndim)"
   ]
  },
  {
   "cell_type": "code",
   "execution_count": 20,
   "metadata": {},
   "outputs": [
    {
     "name": "stdout",
     "output_type": "stream",
     "text": [
      "[[1 2]\n",
      " [2 3]\n",
      " [4 5]]\n"
     ]
    }
   ],
   "source": [
    "n2=np.array([[1,2],[2,3],[4,5]])\n",
    "print(n2)"
   ]
  },
  {
   "cell_type": "code",
   "execution_count": 18,
   "metadata": {},
   "outputs": [
    {
     "name": "stdout",
     "output_type": "stream",
     "text": [
      "(3, 2)\n",
      "2\n",
      "int64\n"
     ]
    }
   ],
   "source": [
    "#commands\n",
    "print(n2.shape) #determines the no. of rows and column\n",
    "print(n2.ndim) #determinr the dimension basis of rows\n",
    "print(n2.dtype) #determines the data type of the values in array"
   ]
  },
  {
   "cell_type": "code",
   "execution_count": 14,
   "metadata": {},
   "outputs": [
    {
     "data": {
      "text/plain": [
       "array([  1,   2,   3,   4,   5,   6,   7,   8,   9,  10,  11,  12,  13,\n",
       "        14,  15,  16,  17,  18,  19,  20,  21,  22,  23,  24,  25,  26,\n",
       "        27,  28,  29,  30,  31,  32,  33,  34,  35,  36,  37,  38,  39,\n",
       "        40,  41,  42,  43,  44,  45,  46,  47,  48,  49,  50,  51,  52,\n",
       "        53,  54,  55,  56,  57,  58,  59,  60,  61,  62,  63,  64,  65,\n",
       "        66,  67,  68,  69,  70,  71,  72,  73,  74,  75,  76,  77,  78,\n",
       "        79,  80,  81,  82,  83,  84,  85,  86,  87,  88,  89,  90,  91,\n",
       "        92,  93,  94,  95,  96,  97,  98,  99, 100])"
      ]
     },
     "execution_count": 14,
     "metadata": {},
     "output_type": "execute_result"
    }
   ],
   "source": [
    "np.arange(1,101)"
   ]
  },
  {
   "cell_type": "code",
   "execution_count": 28,
   "metadata": {},
   "outputs": [
    {
     "data": {
      "text/plain": [
       "array([[3, 9, 4],\n",
       "       [3, 3, 3],\n",
       "       [3, 6, 4]], dtype=int32)"
      ]
     },
     "execution_count": 28,
     "metadata": {},
     "output_type": "execute_result"
    }
   ],
   "source": [
    "np.random.randint(1,10,size=(3,3))"
   ]
  },
  {
   "cell_type": "code",
   "execution_count": 30,
   "metadata": {},
   "outputs": [
    {
     "name": "stdout",
     "output_type": "stream",
     "text": [
      "[[7 2 3]\n",
      " [2 5 2]\n",
      " [3 5 1]]\n",
      "[[1 2 3]\n",
      " [4 5 6]\n",
      " [7 8 9]]\n"
     ]
    }
   ],
   "source": [
    "x=np.array([[7,2,3],[2,5,2],[3,5,1]])\n",
    "y=np.array([[1,2,3],[4,5,6],[7,8,9]])\n",
    "print(x)\n",
    "print(y)"
   ]
  },
  {
   "cell_type": "code",
   "execution_count": 31,
   "metadata": {},
   "outputs": [
    {
     "name": "stdout",
     "output_type": "stream",
     "text": [
      "[[36 48 60]\n",
      " [36 45 54]\n",
      " [30 39 48]]\n"
     ]
    }
   ],
   "source": [
    "print(x @ y) # or np.dot(x,y) [printing the mutiplication of matrix]"
   ]
  },
  {
   "cell_type": "code",
   "execution_count": 34,
   "metadata": {},
   "outputs": [
    {
     "data": {
      "text/plain": [
       "np.int64(12600)"
      ]
     },
     "execution_count": 34,
     "metadata": {},
     "output_type": "execute_result"
    }
   ],
   "source": [
    "x.prod() # product of all the element -of x\n"
   ]
  },
  {
   "cell_type": "code",
   "execution_count": 35,
   "metadata": {},
   "outputs": [
    {
     "data": {
      "text/plain": [
       "np.float64(3.3333333333333335)"
      ]
     },
     "execution_count": 35,
     "metadata": {},
     "output_type": "execute_result"
    }
   ],
   "source": [
    "x.mean()"
   ]
  },
  {
   "cell_type": "code",
   "execution_count": 38,
   "metadata": {},
   "outputs": [
    {
     "data": {
      "text/plain": [
       "array([4., 4., 2.])"
      ]
     },
     "execution_count": 38,
     "metadata": {},
     "output_type": "execute_result"
    }
   ],
   "source": [
    "x.mean(axis=0) #mean of the column wise\n",
    "x.mean(axis=1) #mean row wise\n"
   ]
  },
  {
   "cell_type": "code",
   "execution_count": 45,
   "metadata": {},
   "outputs": [
    {
     "name": "stdout",
     "output_type": "stream",
     "text": [
      "[1 2 5]\n",
      "[1 4 7]\n"
     ]
    }
   ],
   "source": [
    "print(x.min(axis=0)) # column wise mininmum\n",
    "print(y.min(axis=1)) #row wise minimum"
   ]
  },
  {
   "cell_type": "code",
   "execution_count": 46,
   "metadata": {},
   "outputs": [
    {
     "name": "stdout",
     "output_type": "stream",
     "text": [
      "30\n",
      "1.8257418583505538\n",
      "3.3333333333333335\n"
     ]
    }
   ],
   "source": [
    "print(x.sum())\n",
    "print(x.std())\n",
    "print(x.var())"
   ]
  },
  {
   "cell_type": "code",
   "execution_count": 17,
   "metadata": {},
   "outputs": [
    {
     "name": "stdout",
     "output_type": "stream",
     "text": [
      "5.0\n",
      "3.0\n",
      "7.0\n"
     ]
    }
   ],
   "source": [
    "a=np.array([1,2,3,4,5,6,7,8,9])\n",
    "print(np.percentile(a,50)) #median : 50==>50% of the data\n",
    "print(np.percentile(a,25)) #1st quartile \n",
    "print(np.percentile(a,75)) #3rd quartile "
   ]
  },
  {
   "cell_type": "code",
   "execution_count": 50,
   "metadata": {},
   "outputs": [
    {
     "name": "stdout",
     "output_type": "stream",
     "text": [
      "[1 2 3 5 7]\n"
     ]
    }
   ],
   "source": [
    "print(np.unique(x))"
   ]
  },
  {
   "cell_type": "code",
   "execution_count": 20,
   "metadata": {},
   "outputs": [
    {
     "name": "stdout",
     "output_type": "stream",
     "text": [
      "[[ 36  22]\n",
      " [ 95  80]\n",
      " [ 65  96]\n",
      " [ 82 100]\n",
      " [ 28  16]\n",
      " [ 65  22]\n",
      " [ 51  67]\n",
      " [ 47  42]]\n"
     ]
    }
   ],
   "source": [
    "#reshaping of Array\n",
    "c=np.random.randint(11,101,(4,4))\n",
    "# print(c)\n",
    "print(c.reshape(8,2))"
   ]
  },
  {
   "cell_type": "code",
   "execution_count": null,
   "metadata": {},
   "outputs": [],
   "source": [
    "# Operations and Methods\n",
    "x = np.array([[7,2,3],\n",
    "            [2,5,2],\n",
    "            [3,5,1]]) "
   ]
  },
  {
   "cell_type": "code",
   "execution_count": 25,
   "metadata": {},
   "outputs": [
    {
     "name": "stdout",
     "output_type": "stream",
     "text": [
      "[[9 3 3 8 6]\n",
      " [8 9 4 4 2]\n",
      " [8 5 1 6 1]\n",
      " [6 4 3 9 1]\n",
      " [7 7 1 8 9]]\n"
     ]
    }
   ],
   "source": [
    "# 2d Slicing Matrix\n",
    "import numpy as np\n",
    "x=np.random.randint(1,10,size=(5,5))\n",
    "print(x)"
   ]
  },
  {
   "cell_type": "code",
   "execution_count": 28,
   "metadata": {},
   "outputs": [
    {
     "name": "stdout",
     "output_type": "stream",
     "text": [
      "[9 3 3 8 6]\n",
      "3\n",
      "[7 7 1 8 9]\n",
      "[[9 3 3 8 6]\n",
      " [8 9 4 4 2]\n",
      " [8 5 1 6 1]]\n",
      "[[6 4 3 9 1]\n",
      " [7 7 1 8 9]]\n"
     ]
    }
   ],
   "source": [
    "# row first (index 0)\n",
    "print(x[0])\n",
    "print(x[0,-1]) # row 1st col last\n",
    "print(x[-1]) # last row\n",
    "print(x[:3]) # first 3 rows\n",
    "print(x[3:]) # all rows after 3rd row"
   ]
  },
  {
   "cell_type": "code",
   "execution_count": 40,
   "metadata": {},
   "outputs": [
    {
     "name": "stdout",
     "output_type": "stream",
     "text": [
      "[9 8 8 6 7]\n",
      "[6 2 1 1 9]\n",
      "[[9 3]\n",
      " [8 9]\n",
      " [8 5]\n",
      " [6 4]\n",
      " [7 7]]\n",
      "[[9 3 6]\n",
      " [8 9 2]\n",
      " [8 5 1]\n",
      " [6 4 1]\n",
      " [7 7 9]]\n",
      "[[9 4 4]\n",
      " [5 1 6]\n",
      " [4 3 9]]\n"
     ]
    }
   ],
   "source": [
    "print(x[:,0]) # :  All Row and Coln:1\n",
    "print(x[:,-1]) #All row, last column\n",
    "print(x[:,:2])\n",
    "print(x[:,[0,1,-1]]) # selective column index\n",
    "print(x[1:-1,1:-1]) # middle order"
   ]
  },
  {
   "cell_type": "code",
   "execution_count": 44,
   "metadata": {},
   "outputs": [
    {
     "data": {
      "text/plain": [
       "array([9, 8, 6, 8, 9, 8, 6, 6, 9, 7, 7, 8, 9], dtype=int32)"
      ]
     },
     "execution_count": 44,
     "metadata": {},
     "output_type": "execute_result"
    }
   ],
   "source": [
    "# Boolean Filtering\n",
    "# Extract data from matrix based on condition\n",
    "# x > 5 # Boolean Matrix\n",
    "# x[x > 5] # Boolean Filtering/Indexing\n",
    "y = x [x <= 6]\n",
    "# print(y.shape)\n",
    "# z= y.reshape(6,4)\n",
    "# print(z)"
   ]
  }
 ],
 "metadata": {
  "kernelspec": {
   "display_name": "Python 3",
   "language": "python",
   "name": "python3"
  },
  "language_info": {
   "codemirror_mode": {
    "name": "ipython",
    "version": 3
   },
   "file_extension": ".py",
   "mimetype": "text/x-python",
   "name": "python",
   "nbconvert_exporter": "python",
   "pygments_lexer": "ipython3",
   "version": "3.12.3"
  }
 },
 "nbformat": 4,
 "nbformat_minor": 2
}
